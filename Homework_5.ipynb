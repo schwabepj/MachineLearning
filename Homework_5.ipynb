{
  "nbformat": 4,
  "nbformat_minor": 0,
  "metadata": {
    "colab": {
      "name": "Homework_5",
      "provenance": [],
      "collapsed_sections": []
    },
    "kernelspec": {
      "name": "python3",
      "display_name": "Python 3"
    }
  },
  "cells": [
    {
      "cell_type": "code",
      "metadata": {
        "id": "ZnV5i3gRnfL0",
        "outputId": "f0ffce9f-c993-4ca8-924a-5c558dba6458",
        "colab": {
          "base_uri": "https://localhost:8080/",
          "height": 34
        }
      },
      "source": [
        "from google.colab import drive\n",
        "drive.mount('/content/drive')"
      ],
      "execution_count": 2,
      "outputs": [
        {
          "output_type": "stream",
          "text": [
            "Drive already mounted at /content/drive; to attempt to forcibly remount, call drive.mount(\"/content/drive\", force_remount=True).\n"
          ],
          "name": "stdout"
        }
      ]
    },
    {
      "cell_type": "code",
      "metadata": {
        "id": "QBUQftkdnosh",
        "outputId": "08b760c7-5dc0-45e4-e031-360d376aec23",
        "colab": {
          "base_uri": "https://localhost:8080/",
          "height": 68
        }
      },
      "source": [
        "%cd /content/drive/'My Drive'/'Colab Notebooks'/Data\n",
        "%ls"
      ],
      "execution_count": 3,
      "outputs": [
        {
          "output_type": "stream",
          "text": [
            "/content/drive/My Drive/Colab Notebooks/Data\n",
            "breast-cancer.data  car.data    SPECTF.test   transfusion.data\n",
            "breastCancer.xlsx   ecoli.data  SPECTF.train\n"
          ],
          "name": "stdout"
        }
      ]
    },
    {
      "cell_type": "code",
      "metadata": {
        "id": "r9schW-krNO3"
      },
      "source": [
        "import pandas as pd\n",
        "ecoli_df = pd.read_csv(\"ecoli.data\", header= None,delim_whitespace=True)\n",
        "breastCancer_df = pd.read_csv(\"breast-cancer.data\",header= None)\n",
        "transfusion_df = pd.read_csv(\"transfusion.data\")"
      ],
      "execution_count": 4,
      "outputs": []
    },
    {
      "cell_type": "code",
      "metadata": {
        "id": "KqlMayFFtKy_",
        "outputId": "9cf66982-3152-49c2-de9f-e043cef1dd7f",
        "colab": {
          "base_uri": "https://localhost:8080/",
          "height": 419
        }
      },
      "source": [
        "breastCancer_df.columns = ['class','age','menopause','tumor-size','inv-nodes','node-caps','deg-malig','breast','breast-quad','Label']\n",
        "breastCancer_df"
      ],
      "execution_count": 5,
      "outputs": [
        {
          "output_type": "execute_result",
          "data": {
            "text/html": [
              "<div>\n",
              "<style scoped>\n",
              "    .dataframe tbody tr th:only-of-type {\n",
              "        vertical-align: middle;\n",
              "    }\n",
              "\n",
              "    .dataframe tbody tr th {\n",
              "        vertical-align: top;\n",
              "    }\n",
              "\n",
              "    .dataframe thead th {\n",
              "        text-align: right;\n",
              "    }\n",
              "</style>\n",
              "<table border=\"1\" class=\"dataframe\">\n",
              "  <thead>\n",
              "    <tr style=\"text-align: right;\">\n",
              "      <th></th>\n",
              "      <th>class</th>\n",
              "      <th>age</th>\n",
              "      <th>menopause</th>\n",
              "      <th>tumor-size</th>\n",
              "      <th>inv-nodes</th>\n",
              "      <th>node-caps</th>\n",
              "      <th>deg-malig</th>\n",
              "      <th>breast</th>\n",
              "      <th>breast-quad</th>\n",
              "      <th>Label</th>\n",
              "    </tr>\n",
              "  </thead>\n",
              "  <tbody>\n",
              "    <tr>\n",
              "      <th>0</th>\n",
              "      <td>no-recurrence-events</td>\n",
              "      <td>30-39</td>\n",
              "      <td>premeno</td>\n",
              "      <td>30-34</td>\n",
              "      <td>0-2</td>\n",
              "      <td>no</td>\n",
              "      <td>3</td>\n",
              "      <td>left</td>\n",
              "      <td>left_low</td>\n",
              "      <td>no</td>\n",
              "    </tr>\n",
              "    <tr>\n",
              "      <th>1</th>\n",
              "      <td>no-recurrence-events</td>\n",
              "      <td>40-49</td>\n",
              "      <td>premeno</td>\n",
              "      <td>20-24</td>\n",
              "      <td>0-2</td>\n",
              "      <td>no</td>\n",
              "      <td>2</td>\n",
              "      <td>right</td>\n",
              "      <td>right_up</td>\n",
              "      <td>no</td>\n",
              "    </tr>\n",
              "    <tr>\n",
              "      <th>2</th>\n",
              "      <td>no-recurrence-events</td>\n",
              "      <td>40-49</td>\n",
              "      <td>premeno</td>\n",
              "      <td>20-24</td>\n",
              "      <td>0-2</td>\n",
              "      <td>no</td>\n",
              "      <td>2</td>\n",
              "      <td>left</td>\n",
              "      <td>left_low</td>\n",
              "      <td>no</td>\n",
              "    </tr>\n",
              "    <tr>\n",
              "      <th>3</th>\n",
              "      <td>no-recurrence-events</td>\n",
              "      <td>60-69</td>\n",
              "      <td>ge40</td>\n",
              "      <td>15-19</td>\n",
              "      <td>0-2</td>\n",
              "      <td>no</td>\n",
              "      <td>2</td>\n",
              "      <td>right</td>\n",
              "      <td>left_up</td>\n",
              "      <td>no</td>\n",
              "    </tr>\n",
              "    <tr>\n",
              "      <th>4</th>\n",
              "      <td>no-recurrence-events</td>\n",
              "      <td>40-49</td>\n",
              "      <td>premeno</td>\n",
              "      <td>0-4</td>\n",
              "      <td>0-2</td>\n",
              "      <td>no</td>\n",
              "      <td>2</td>\n",
              "      <td>right</td>\n",
              "      <td>right_low</td>\n",
              "      <td>no</td>\n",
              "    </tr>\n",
              "    <tr>\n",
              "      <th>...</th>\n",
              "      <td>...</td>\n",
              "      <td>...</td>\n",
              "      <td>...</td>\n",
              "      <td>...</td>\n",
              "      <td>...</td>\n",
              "      <td>...</td>\n",
              "      <td>...</td>\n",
              "      <td>...</td>\n",
              "      <td>...</td>\n",
              "      <td>...</td>\n",
              "    </tr>\n",
              "    <tr>\n",
              "      <th>281</th>\n",
              "      <td>recurrence-events</td>\n",
              "      <td>30-39</td>\n",
              "      <td>premeno</td>\n",
              "      <td>30-34</td>\n",
              "      <td>0-2</td>\n",
              "      <td>no</td>\n",
              "      <td>2</td>\n",
              "      <td>left</td>\n",
              "      <td>left_up</td>\n",
              "      <td>no</td>\n",
              "    </tr>\n",
              "    <tr>\n",
              "      <th>282</th>\n",
              "      <td>recurrence-events</td>\n",
              "      <td>30-39</td>\n",
              "      <td>premeno</td>\n",
              "      <td>20-24</td>\n",
              "      <td>0-2</td>\n",
              "      <td>no</td>\n",
              "      <td>3</td>\n",
              "      <td>left</td>\n",
              "      <td>left_up</td>\n",
              "      <td>yes</td>\n",
              "    </tr>\n",
              "    <tr>\n",
              "      <th>283</th>\n",
              "      <td>recurrence-events</td>\n",
              "      <td>60-69</td>\n",
              "      <td>ge40</td>\n",
              "      <td>20-24</td>\n",
              "      <td>0-2</td>\n",
              "      <td>no</td>\n",
              "      <td>1</td>\n",
              "      <td>right</td>\n",
              "      <td>left_up</td>\n",
              "      <td>no</td>\n",
              "    </tr>\n",
              "    <tr>\n",
              "      <th>284</th>\n",
              "      <td>recurrence-events</td>\n",
              "      <td>40-49</td>\n",
              "      <td>ge40</td>\n",
              "      <td>30-34</td>\n",
              "      <td>3-5</td>\n",
              "      <td>no</td>\n",
              "      <td>3</td>\n",
              "      <td>left</td>\n",
              "      <td>left_low</td>\n",
              "      <td>no</td>\n",
              "    </tr>\n",
              "    <tr>\n",
              "      <th>285</th>\n",
              "      <td>recurrence-events</td>\n",
              "      <td>50-59</td>\n",
              "      <td>ge40</td>\n",
              "      <td>30-34</td>\n",
              "      <td>3-5</td>\n",
              "      <td>no</td>\n",
              "      <td>3</td>\n",
              "      <td>left</td>\n",
              "      <td>left_low</td>\n",
              "      <td>no</td>\n",
              "    </tr>\n",
              "  </tbody>\n",
              "</table>\n",
              "<p>286 rows × 10 columns</p>\n",
              "</div>"
            ],
            "text/plain": [
              "                    class    age menopause  ... breast breast-quad Label\n",
              "0    no-recurrence-events  30-39   premeno  ...   left    left_low    no\n",
              "1    no-recurrence-events  40-49   premeno  ...  right    right_up    no\n",
              "2    no-recurrence-events  40-49   premeno  ...   left    left_low    no\n",
              "3    no-recurrence-events  60-69      ge40  ...  right     left_up    no\n",
              "4    no-recurrence-events  40-49   premeno  ...  right   right_low    no\n",
              "..                    ...    ...       ...  ...    ...         ...   ...\n",
              "281     recurrence-events  30-39   premeno  ...   left     left_up    no\n",
              "282     recurrence-events  30-39   premeno  ...   left     left_up   yes\n",
              "283     recurrence-events  60-69      ge40  ...  right     left_up    no\n",
              "284     recurrence-events  40-49      ge40  ...   left    left_low    no\n",
              "285     recurrence-events  50-59      ge40  ...   left    left_low    no\n",
              "\n",
              "[286 rows x 10 columns]"
            ]
          },
          "metadata": {
            "tags": []
          },
          "execution_count": 5
        }
      ]
    },
    {
      "cell_type": "code",
      "metadata": {
        "id": "lwfnsjoss284",
        "outputId": "6c56b7a9-b7cc-4845-ad2d-d02a085866ee",
        "colab": {
          "base_uri": "https://localhost:8080/",
          "height": 419
        }
      },
      "source": [
        "ecoli_df.columns = ['sequence','mcg','gvh','lip','chg','aac','alm1','alm2','Label']\n",
        "from sklearn.preprocessing import LabelEncoder\n",
        "ecoli_df_updated = ecoli_df.drop('sequence',axis=1)\n",
        "ecoli_df_updated"
      ],
      "execution_count": 6,
      "outputs": [
        {
          "output_type": "execute_result",
          "data": {
            "text/html": [
              "<div>\n",
              "<style scoped>\n",
              "    .dataframe tbody tr th:only-of-type {\n",
              "        vertical-align: middle;\n",
              "    }\n",
              "\n",
              "    .dataframe tbody tr th {\n",
              "        vertical-align: top;\n",
              "    }\n",
              "\n",
              "    .dataframe thead th {\n",
              "        text-align: right;\n",
              "    }\n",
              "</style>\n",
              "<table border=\"1\" class=\"dataframe\">\n",
              "  <thead>\n",
              "    <tr style=\"text-align: right;\">\n",
              "      <th></th>\n",
              "      <th>mcg</th>\n",
              "      <th>gvh</th>\n",
              "      <th>lip</th>\n",
              "      <th>chg</th>\n",
              "      <th>aac</th>\n",
              "      <th>alm1</th>\n",
              "      <th>alm2</th>\n",
              "      <th>Label</th>\n",
              "    </tr>\n",
              "  </thead>\n",
              "  <tbody>\n",
              "    <tr>\n",
              "      <th>0</th>\n",
              "      <td>0.49</td>\n",
              "      <td>0.29</td>\n",
              "      <td>0.48</td>\n",
              "      <td>0.5</td>\n",
              "      <td>0.56</td>\n",
              "      <td>0.24</td>\n",
              "      <td>0.35</td>\n",
              "      <td>cp</td>\n",
              "    </tr>\n",
              "    <tr>\n",
              "      <th>1</th>\n",
              "      <td>0.07</td>\n",
              "      <td>0.40</td>\n",
              "      <td>0.48</td>\n",
              "      <td>0.5</td>\n",
              "      <td>0.54</td>\n",
              "      <td>0.35</td>\n",
              "      <td>0.44</td>\n",
              "      <td>cp</td>\n",
              "    </tr>\n",
              "    <tr>\n",
              "      <th>2</th>\n",
              "      <td>0.56</td>\n",
              "      <td>0.40</td>\n",
              "      <td>0.48</td>\n",
              "      <td>0.5</td>\n",
              "      <td>0.49</td>\n",
              "      <td>0.37</td>\n",
              "      <td>0.46</td>\n",
              "      <td>cp</td>\n",
              "    </tr>\n",
              "    <tr>\n",
              "      <th>3</th>\n",
              "      <td>0.59</td>\n",
              "      <td>0.49</td>\n",
              "      <td>0.48</td>\n",
              "      <td>0.5</td>\n",
              "      <td>0.52</td>\n",
              "      <td>0.45</td>\n",
              "      <td>0.36</td>\n",
              "      <td>cp</td>\n",
              "    </tr>\n",
              "    <tr>\n",
              "      <th>4</th>\n",
              "      <td>0.23</td>\n",
              "      <td>0.32</td>\n",
              "      <td>0.48</td>\n",
              "      <td>0.5</td>\n",
              "      <td>0.55</td>\n",
              "      <td>0.25</td>\n",
              "      <td>0.35</td>\n",
              "      <td>cp</td>\n",
              "    </tr>\n",
              "    <tr>\n",
              "      <th>...</th>\n",
              "      <td>...</td>\n",
              "      <td>...</td>\n",
              "      <td>...</td>\n",
              "      <td>...</td>\n",
              "      <td>...</td>\n",
              "      <td>...</td>\n",
              "      <td>...</td>\n",
              "      <td>...</td>\n",
              "    </tr>\n",
              "    <tr>\n",
              "      <th>331</th>\n",
              "      <td>0.74</td>\n",
              "      <td>0.56</td>\n",
              "      <td>0.48</td>\n",
              "      <td>0.5</td>\n",
              "      <td>0.47</td>\n",
              "      <td>0.68</td>\n",
              "      <td>0.30</td>\n",
              "      <td>pp</td>\n",
              "    </tr>\n",
              "    <tr>\n",
              "      <th>332</th>\n",
              "      <td>0.71</td>\n",
              "      <td>0.57</td>\n",
              "      <td>0.48</td>\n",
              "      <td>0.5</td>\n",
              "      <td>0.48</td>\n",
              "      <td>0.35</td>\n",
              "      <td>0.32</td>\n",
              "      <td>pp</td>\n",
              "    </tr>\n",
              "    <tr>\n",
              "      <th>333</th>\n",
              "      <td>0.61</td>\n",
              "      <td>0.60</td>\n",
              "      <td>0.48</td>\n",
              "      <td>0.5</td>\n",
              "      <td>0.44</td>\n",
              "      <td>0.39</td>\n",
              "      <td>0.38</td>\n",
              "      <td>pp</td>\n",
              "    </tr>\n",
              "    <tr>\n",
              "      <th>334</th>\n",
              "      <td>0.59</td>\n",
              "      <td>0.61</td>\n",
              "      <td>0.48</td>\n",
              "      <td>0.5</td>\n",
              "      <td>0.42</td>\n",
              "      <td>0.42</td>\n",
              "      <td>0.37</td>\n",
              "      <td>pp</td>\n",
              "    </tr>\n",
              "    <tr>\n",
              "      <th>335</th>\n",
              "      <td>0.74</td>\n",
              "      <td>0.74</td>\n",
              "      <td>0.48</td>\n",
              "      <td>0.5</td>\n",
              "      <td>0.31</td>\n",
              "      <td>0.53</td>\n",
              "      <td>0.52</td>\n",
              "      <td>pp</td>\n",
              "    </tr>\n",
              "  </tbody>\n",
              "</table>\n",
              "<p>336 rows × 8 columns</p>\n",
              "</div>"
            ],
            "text/plain": [
              "      mcg   gvh   lip  chg   aac  alm1  alm2 Label\n",
              "0    0.49  0.29  0.48  0.5  0.56  0.24  0.35    cp\n",
              "1    0.07  0.40  0.48  0.5  0.54  0.35  0.44    cp\n",
              "2    0.56  0.40  0.48  0.5  0.49  0.37  0.46    cp\n",
              "3    0.59  0.49  0.48  0.5  0.52  0.45  0.36    cp\n",
              "4    0.23  0.32  0.48  0.5  0.55  0.25  0.35    cp\n",
              "..    ...   ...   ...  ...   ...   ...   ...   ...\n",
              "331  0.74  0.56  0.48  0.5  0.47  0.68  0.30    pp\n",
              "332  0.71  0.57  0.48  0.5  0.48  0.35  0.32    pp\n",
              "333  0.61  0.60  0.48  0.5  0.44  0.39  0.38    pp\n",
              "334  0.59  0.61  0.48  0.5  0.42  0.42  0.37    pp\n",
              "335  0.74  0.74  0.48  0.5  0.31  0.53  0.52    pp\n",
              "\n",
              "[336 rows x 8 columns]"
            ]
          },
          "metadata": {
            "tags": []
          },
          "execution_count": 6
        }
      ]
    },
    {
      "cell_type": "code",
      "metadata": {
        "id": "S0-YOItbrznG",
        "outputId": "1e17fdbc-55d3-4e9f-939d-dd5383c955da",
        "colab": {
          "base_uri": "https://localhost:8080/",
          "height": 419
        }
      },
      "source": [
        "transfusion_df"
      ],
      "execution_count": 7,
      "outputs": [
        {
          "output_type": "execute_result",
          "data": {
            "text/html": [
              "<div>\n",
              "<style scoped>\n",
              "    .dataframe tbody tr th:only-of-type {\n",
              "        vertical-align: middle;\n",
              "    }\n",
              "\n",
              "    .dataframe tbody tr th {\n",
              "        vertical-align: top;\n",
              "    }\n",
              "\n",
              "    .dataframe thead th {\n",
              "        text-align: right;\n",
              "    }\n",
              "</style>\n",
              "<table border=\"1\" class=\"dataframe\">\n",
              "  <thead>\n",
              "    <tr style=\"text-align: right;\">\n",
              "      <th></th>\n",
              "      <th>Recency (months)</th>\n",
              "      <th>Frequency (times)</th>\n",
              "      <th>Monetary (c.c. blood)</th>\n",
              "      <th>Time (months)</th>\n",
              "      <th>whether he/she donated blood in March 2007</th>\n",
              "    </tr>\n",
              "  </thead>\n",
              "  <tbody>\n",
              "    <tr>\n",
              "      <th>0</th>\n",
              "      <td>2</td>\n",
              "      <td>50</td>\n",
              "      <td>12500</td>\n",
              "      <td>98</td>\n",
              "      <td>1</td>\n",
              "    </tr>\n",
              "    <tr>\n",
              "      <th>1</th>\n",
              "      <td>0</td>\n",
              "      <td>13</td>\n",
              "      <td>3250</td>\n",
              "      <td>28</td>\n",
              "      <td>1</td>\n",
              "    </tr>\n",
              "    <tr>\n",
              "      <th>2</th>\n",
              "      <td>1</td>\n",
              "      <td>16</td>\n",
              "      <td>4000</td>\n",
              "      <td>35</td>\n",
              "      <td>1</td>\n",
              "    </tr>\n",
              "    <tr>\n",
              "      <th>3</th>\n",
              "      <td>2</td>\n",
              "      <td>20</td>\n",
              "      <td>5000</td>\n",
              "      <td>45</td>\n",
              "      <td>1</td>\n",
              "    </tr>\n",
              "    <tr>\n",
              "      <th>4</th>\n",
              "      <td>1</td>\n",
              "      <td>24</td>\n",
              "      <td>6000</td>\n",
              "      <td>77</td>\n",
              "      <td>0</td>\n",
              "    </tr>\n",
              "    <tr>\n",
              "      <th>...</th>\n",
              "      <td>...</td>\n",
              "      <td>...</td>\n",
              "      <td>...</td>\n",
              "      <td>...</td>\n",
              "      <td>...</td>\n",
              "    </tr>\n",
              "    <tr>\n",
              "      <th>743</th>\n",
              "      <td>23</td>\n",
              "      <td>2</td>\n",
              "      <td>500</td>\n",
              "      <td>38</td>\n",
              "      <td>0</td>\n",
              "    </tr>\n",
              "    <tr>\n",
              "      <th>744</th>\n",
              "      <td>21</td>\n",
              "      <td>2</td>\n",
              "      <td>500</td>\n",
              "      <td>52</td>\n",
              "      <td>0</td>\n",
              "    </tr>\n",
              "    <tr>\n",
              "      <th>745</th>\n",
              "      <td>23</td>\n",
              "      <td>3</td>\n",
              "      <td>750</td>\n",
              "      <td>62</td>\n",
              "      <td>0</td>\n",
              "    </tr>\n",
              "    <tr>\n",
              "      <th>746</th>\n",
              "      <td>39</td>\n",
              "      <td>1</td>\n",
              "      <td>250</td>\n",
              "      <td>39</td>\n",
              "      <td>0</td>\n",
              "    </tr>\n",
              "    <tr>\n",
              "      <th>747</th>\n",
              "      <td>72</td>\n",
              "      <td>1</td>\n",
              "      <td>250</td>\n",
              "      <td>72</td>\n",
              "      <td>0</td>\n",
              "    </tr>\n",
              "  </tbody>\n",
              "</table>\n",
              "<p>748 rows × 5 columns</p>\n",
              "</div>"
            ],
            "text/plain": [
              "     Recency (months)  ...  whether he/she donated blood in March 2007\n",
              "0                   2  ...                                           1\n",
              "1                   0  ...                                           1\n",
              "2                   1  ...                                           1\n",
              "3                   2  ...                                           1\n",
              "4                   1  ...                                           0\n",
              "..                ...  ...                                         ...\n",
              "743                23  ...                                           0\n",
              "744                21  ...                                           0\n",
              "745                23  ...                                           0\n",
              "746                39  ...                                           0\n",
              "747                72  ...                                           0\n",
              "\n",
              "[748 rows x 5 columns]"
            ]
          },
          "metadata": {
            "tags": []
          },
          "execution_count": 7
        }
      ]
    },
    {
      "cell_type": "code",
      "metadata": {
        "id": "DBu1FIelAmjj",
        "outputId": "14e304a1-b5c4-45cb-f6ee-d352d89a5268",
        "colab": {
          "base_uri": "https://localhost:8080/",
          "height": 858
        }
      },
      "source": [
        "breastCancer_df.info()\n",
        "print(breastCancer_df.head())\n",
        "print(breastCancer_df.tail())\n",
        "breastCancer_df.describe()"
      ],
      "execution_count": 8,
      "outputs": [
        {
          "output_type": "stream",
          "text": [
            "<class 'pandas.core.frame.DataFrame'>\n",
            "RangeIndex: 286 entries, 0 to 285\n",
            "Data columns (total 10 columns):\n",
            " #   Column       Non-Null Count  Dtype \n",
            "---  ------       --------------  ----- \n",
            " 0   class        286 non-null    object\n",
            " 1   age          286 non-null    object\n",
            " 2   menopause    286 non-null    object\n",
            " 3   tumor-size   286 non-null    object\n",
            " 4   inv-nodes    286 non-null    object\n",
            " 5   node-caps    286 non-null    object\n",
            " 6   deg-malig    286 non-null    int64 \n",
            " 7   breast       286 non-null    object\n",
            " 8   breast-quad  286 non-null    object\n",
            " 9   Label        286 non-null    object\n",
            "dtypes: int64(1), object(9)\n",
            "memory usage: 22.5+ KB\n",
            "                  class    age menopause  ... breast breast-quad Label\n",
            "0  no-recurrence-events  30-39   premeno  ...   left    left_low    no\n",
            "1  no-recurrence-events  40-49   premeno  ...  right    right_up    no\n",
            "2  no-recurrence-events  40-49   premeno  ...   left    left_low    no\n",
            "3  no-recurrence-events  60-69      ge40  ...  right     left_up    no\n",
            "4  no-recurrence-events  40-49   premeno  ...  right   right_low    no\n",
            "\n",
            "[5 rows x 10 columns]\n",
            "                 class    age menopause  ... breast breast-quad Label\n",
            "281  recurrence-events  30-39   premeno  ...   left     left_up    no\n",
            "282  recurrence-events  30-39   premeno  ...   left     left_up   yes\n",
            "283  recurrence-events  60-69      ge40  ...  right     left_up    no\n",
            "284  recurrence-events  40-49      ge40  ...   left    left_low    no\n",
            "285  recurrence-events  50-59      ge40  ...   left    left_low    no\n",
            "\n",
            "[5 rows x 10 columns]\n"
          ],
          "name": "stdout"
        },
        {
          "output_type": "execute_result",
          "data": {
            "text/html": [
              "<div>\n",
              "<style scoped>\n",
              "    .dataframe tbody tr th:only-of-type {\n",
              "        vertical-align: middle;\n",
              "    }\n",
              "\n",
              "    .dataframe tbody tr th {\n",
              "        vertical-align: top;\n",
              "    }\n",
              "\n",
              "    .dataframe thead th {\n",
              "        text-align: right;\n",
              "    }\n",
              "</style>\n",
              "<table border=\"1\" class=\"dataframe\">\n",
              "  <thead>\n",
              "    <tr style=\"text-align: right;\">\n",
              "      <th></th>\n",
              "      <th>deg-malig</th>\n",
              "    </tr>\n",
              "  </thead>\n",
              "  <tbody>\n",
              "    <tr>\n",
              "      <th>count</th>\n",
              "      <td>286.000000</td>\n",
              "    </tr>\n",
              "    <tr>\n",
              "      <th>mean</th>\n",
              "      <td>2.048951</td>\n",
              "    </tr>\n",
              "    <tr>\n",
              "      <th>std</th>\n",
              "      <td>0.738217</td>\n",
              "    </tr>\n",
              "    <tr>\n",
              "      <th>min</th>\n",
              "      <td>1.000000</td>\n",
              "    </tr>\n",
              "    <tr>\n",
              "      <th>25%</th>\n",
              "      <td>2.000000</td>\n",
              "    </tr>\n",
              "    <tr>\n",
              "      <th>50%</th>\n",
              "      <td>2.000000</td>\n",
              "    </tr>\n",
              "    <tr>\n",
              "      <th>75%</th>\n",
              "      <td>3.000000</td>\n",
              "    </tr>\n",
              "    <tr>\n",
              "      <th>max</th>\n",
              "      <td>3.000000</td>\n",
              "    </tr>\n",
              "  </tbody>\n",
              "</table>\n",
              "</div>"
            ],
            "text/plain": [
              "        deg-malig\n",
              "count  286.000000\n",
              "mean     2.048951\n",
              "std      0.738217\n",
              "min      1.000000\n",
              "25%      2.000000\n",
              "50%      2.000000\n",
              "75%      3.000000\n",
              "max      3.000000"
            ]
          },
          "metadata": {
            "tags": []
          },
          "execution_count": 8
        }
      ]
    },
    {
      "cell_type": "markdown",
      "metadata": {
        "id": "6EOyq8Ug_aj5"
      },
      "source": [
        "A lot of classication data that will need to be converted but otherwise not too difficult."
      ]
    },
    {
      "cell_type": "code",
      "metadata": {
        "id": "6KrXj4eMEorF",
        "outputId": "5463f094-5207-4c26-ef37-834516333b93",
        "colab": {
          "base_uri": "https://localhost:8080/",
          "height": 773
        }
      },
      "source": [
        "transfusion_df.info()\n",
        "print(transfusion_df.head())\n",
        "print(transfusion_df.tail())\n",
        "transfusion_df.describe()"
      ],
      "execution_count": 9,
      "outputs": [
        {
          "output_type": "stream",
          "text": [
            "<class 'pandas.core.frame.DataFrame'>\n",
            "RangeIndex: 748 entries, 0 to 747\n",
            "Data columns (total 5 columns):\n",
            " #   Column                                      Non-Null Count  Dtype\n",
            "---  ------                                      --------------  -----\n",
            " 0   Recency (months)                            748 non-null    int64\n",
            " 1   Frequency (times)                           748 non-null    int64\n",
            " 2   Monetary (c.c. blood)                       748 non-null    int64\n",
            " 3   Time (months)                               748 non-null    int64\n",
            " 4   whether he/she donated blood in March 2007  748 non-null    int64\n",
            "dtypes: int64(5)\n",
            "memory usage: 29.3 KB\n",
            "   Recency (months)  ...  whether he/she donated blood in March 2007\n",
            "0                 2  ...                                           1\n",
            "1                 0  ...                                           1\n",
            "2                 1  ...                                           1\n",
            "3                 2  ...                                           1\n",
            "4                 1  ...                                           0\n",
            "\n",
            "[5 rows x 5 columns]\n",
            "     Recency (months)  ...  whether he/she donated blood in March 2007\n",
            "743                23  ...                                           0\n",
            "744                21  ...                                           0\n",
            "745                23  ...                                           0\n",
            "746                39  ...                                           0\n",
            "747                72  ...                                           0\n",
            "\n",
            "[5 rows x 5 columns]\n"
          ],
          "name": "stdout"
        },
        {
          "output_type": "execute_result",
          "data": {
            "text/html": [
              "<div>\n",
              "<style scoped>\n",
              "    .dataframe tbody tr th:only-of-type {\n",
              "        vertical-align: middle;\n",
              "    }\n",
              "\n",
              "    .dataframe tbody tr th {\n",
              "        vertical-align: top;\n",
              "    }\n",
              "\n",
              "    .dataframe thead th {\n",
              "        text-align: right;\n",
              "    }\n",
              "</style>\n",
              "<table border=\"1\" class=\"dataframe\">\n",
              "  <thead>\n",
              "    <tr style=\"text-align: right;\">\n",
              "      <th></th>\n",
              "      <th>Recency (months)</th>\n",
              "      <th>Frequency (times)</th>\n",
              "      <th>Monetary (c.c. blood)</th>\n",
              "      <th>Time (months)</th>\n",
              "      <th>whether he/she donated blood in March 2007</th>\n",
              "    </tr>\n",
              "  </thead>\n",
              "  <tbody>\n",
              "    <tr>\n",
              "      <th>count</th>\n",
              "      <td>748.000000</td>\n",
              "      <td>748.000000</td>\n",
              "      <td>748.000000</td>\n",
              "      <td>748.000000</td>\n",
              "      <td>748.000000</td>\n",
              "    </tr>\n",
              "    <tr>\n",
              "      <th>mean</th>\n",
              "      <td>9.506684</td>\n",
              "      <td>5.514706</td>\n",
              "      <td>1378.676471</td>\n",
              "      <td>34.282086</td>\n",
              "      <td>0.237968</td>\n",
              "    </tr>\n",
              "    <tr>\n",
              "      <th>std</th>\n",
              "      <td>8.095396</td>\n",
              "      <td>5.839307</td>\n",
              "      <td>1459.826781</td>\n",
              "      <td>24.376714</td>\n",
              "      <td>0.426124</td>\n",
              "    </tr>\n",
              "    <tr>\n",
              "      <th>min</th>\n",
              "      <td>0.000000</td>\n",
              "      <td>1.000000</td>\n",
              "      <td>250.000000</td>\n",
              "      <td>2.000000</td>\n",
              "      <td>0.000000</td>\n",
              "    </tr>\n",
              "    <tr>\n",
              "      <th>25%</th>\n",
              "      <td>2.750000</td>\n",
              "      <td>2.000000</td>\n",
              "      <td>500.000000</td>\n",
              "      <td>16.000000</td>\n",
              "      <td>0.000000</td>\n",
              "    </tr>\n",
              "    <tr>\n",
              "      <th>50%</th>\n",
              "      <td>7.000000</td>\n",
              "      <td>4.000000</td>\n",
              "      <td>1000.000000</td>\n",
              "      <td>28.000000</td>\n",
              "      <td>0.000000</td>\n",
              "    </tr>\n",
              "    <tr>\n",
              "      <th>75%</th>\n",
              "      <td>14.000000</td>\n",
              "      <td>7.000000</td>\n",
              "      <td>1750.000000</td>\n",
              "      <td>50.000000</td>\n",
              "      <td>0.000000</td>\n",
              "    </tr>\n",
              "    <tr>\n",
              "      <th>max</th>\n",
              "      <td>74.000000</td>\n",
              "      <td>50.000000</td>\n",
              "      <td>12500.000000</td>\n",
              "      <td>98.000000</td>\n",
              "      <td>1.000000</td>\n",
              "    </tr>\n",
              "  </tbody>\n",
              "</table>\n",
              "</div>"
            ],
            "text/plain": [
              "       Recency (months)  ...  whether he/she donated blood in March 2007\n",
              "count        748.000000  ...                                  748.000000\n",
              "mean           9.506684  ...                                    0.237968\n",
              "std            8.095396  ...                                    0.426124\n",
              "min            0.000000  ...                                    0.000000\n",
              "25%            2.750000  ...                                    0.000000\n",
              "50%            7.000000  ...                                    0.000000\n",
              "75%           14.000000  ...                                    0.000000\n",
              "max           74.000000  ...                                    1.000000\n",
              "\n",
              "[8 rows x 5 columns]"
            ]
          },
          "metadata": {
            "tags": []
          },
          "execution_count": 9
        }
      ]
    },
    {
      "cell_type": "markdown",
      "metadata": {
        "id": "DvMxeBln_ZUP"
      },
      "source": [
        "A lot more data than the other datasets so it would take longer to find a fit for it. All the data is numeric so no need to convert but the values all have different ranges so may want to consider scaling."
      ]
    },
    {
      "cell_type": "code",
      "metadata": {
        "id": "AdSxujOxE7Rv",
        "outputId": "d88ab6e9-4094-417a-daa5-40bbf40148c5",
        "colab": {
          "base_uri": "https://localhost:8080/",
          "height": 756
        }
      },
      "source": [
        "ecoli_df_updated.info()\n",
        "print(ecoli_df_updated.head())\n",
        "print(ecoli_df_updated.tail())\n",
        "ecoli_df_updated.describe()"
      ],
      "execution_count": 10,
      "outputs": [
        {
          "output_type": "stream",
          "text": [
            "<class 'pandas.core.frame.DataFrame'>\n",
            "RangeIndex: 336 entries, 0 to 335\n",
            "Data columns (total 8 columns):\n",
            " #   Column  Non-Null Count  Dtype  \n",
            "---  ------  --------------  -----  \n",
            " 0   mcg     336 non-null    float64\n",
            " 1   gvh     336 non-null    float64\n",
            " 2   lip     336 non-null    float64\n",
            " 3   chg     336 non-null    float64\n",
            " 4   aac     336 non-null    float64\n",
            " 5   alm1    336 non-null    float64\n",
            " 6   alm2    336 non-null    float64\n",
            " 7   Label   336 non-null    object \n",
            "dtypes: float64(7), object(1)\n",
            "memory usage: 21.1+ KB\n",
            "    mcg   gvh   lip  chg   aac  alm1  alm2 Label\n",
            "0  0.49  0.29  0.48  0.5  0.56  0.24  0.35    cp\n",
            "1  0.07  0.40  0.48  0.5  0.54  0.35  0.44    cp\n",
            "2  0.56  0.40  0.48  0.5  0.49  0.37  0.46    cp\n",
            "3  0.59  0.49  0.48  0.5  0.52  0.45  0.36    cp\n",
            "4  0.23  0.32  0.48  0.5  0.55  0.25  0.35    cp\n",
            "      mcg   gvh   lip  chg   aac  alm1  alm2 Label\n",
            "331  0.74  0.56  0.48  0.5  0.47  0.68  0.30    pp\n",
            "332  0.71  0.57  0.48  0.5  0.48  0.35  0.32    pp\n",
            "333  0.61  0.60  0.48  0.5  0.44  0.39  0.38    pp\n",
            "334  0.59  0.61  0.48  0.5  0.42  0.42  0.37    pp\n",
            "335  0.74  0.74  0.48  0.5  0.31  0.53  0.52    pp\n"
          ],
          "name": "stdout"
        },
        {
          "output_type": "execute_result",
          "data": {
            "text/html": [
              "<div>\n",
              "<style scoped>\n",
              "    .dataframe tbody tr th:only-of-type {\n",
              "        vertical-align: middle;\n",
              "    }\n",
              "\n",
              "    .dataframe tbody tr th {\n",
              "        vertical-align: top;\n",
              "    }\n",
              "\n",
              "    .dataframe thead th {\n",
              "        text-align: right;\n",
              "    }\n",
              "</style>\n",
              "<table border=\"1\" class=\"dataframe\">\n",
              "  <thead>\n",
              "    <tr style=\"text-align: right;\">\n",
              "      <th></th>\n",
              "      <th>mcg</th>\n",
              "      <th>gvh</th>\n",
              "      <th>lip</th>\n",
              "      <th>chg</th>\n",
              "      <th>aac</th>\n",
              "      <th>alm1</th>\n",
              "      <th>alm2</th>\n",
              "    </tr>\n",
              "  </thead>\n",
              "  <tbody>\n",
              "    <tr>\n",
              "      <th>count</th>\n",
              "      <td>336.000000</td>\n",
              "      <td>336.000000</td>\n",
              "      <td>336.000000</td>\n",
              "      <td>336.000000</td>\n",
              "      <td>336.000000</td>\n",
              "      <td>336.000000</td>\n",
              "      <td>336.000000</td>\n",
              "    </tr>\n",
              "    <tr>\n",
              "      <th>mean</th>\n",
              "      <td>0.500060</td>\n",
              "      <td>0.500000</td>\n",
              "      <td>0.495476</td>\n",
              "      <td>0.501488</td>\n",
              "      <td>0.500030</td>\n",
              "      <td>0.500179</td>\n",
              "      <td>0.499732</td>\n",
              "    </tr>\n",
              "    <tr>\n",
              "      <th>std</th>\n",
              "      <td>0.194634</td>\n",
              "      <td>0.148157</td>\n",
              "      <td>0.088495</td>\n",
              "      <td>0.027277</td>\n",
              "      <td>0.122376</td>\n",
              "      <td>0.215751</td>\n",
              "      <td>0.209411</td>\n",
              "    </tr>\n",
              "    <tr>\n",
              "      <th>min</th>\n",
              "      <td>0.000000</td>\n",
              "      <td>0.160000</td>\n",
              "      <td>0.480000</td>\n",
              "      <td>0.500000</td>\n",
              "      <td>0.000000</td>\n",
              "      <td>0.030000</td>\n",
              "      <td>0.000000</td>\n",
              "    </tr>\n",
              "    <tr>\n",
              "      <th>25%</th>\n",
              "      <td>0.340000</td>\n",
              "      <td>0.400000</td>\n",
              "      <td>0.480000</td>\n",
              "      <td>0.500000</td>\n",
              "      <td>0.420000</td>\n",
              "      <td>0.330000</td>\n",
              "      <td>0.350000</td>\n",
              "    </tr>\n",
              "    <tr>\n",
              "      <th>50%</th>\n",
              "      <td>0.500000</td>\n",
              "      <td>0.470000</td>\n",
              "      <td>0.480000</td>\n",
              "      <td>0.500000</td>\n",
              "      <td>0.495000</td>\n",
              "      <td>0.455000</td>\n",
              "      <td>0.430000</td>\n",
              "    </tr>\n",
              "    <tr>\n",
              "      <th>75%</th>\n",
              "      <td>0.662500</td>\n",
              "      <td>0.570000</td>\n",
              "      <td>0.480000</td>\n",
              "      <td>0.500000</td>\n",
              "      <td>0.570000</td>\n",
              "      <td>0.710000</td>\n",
              "      <td>0.710000</td>\n",
              "    </tr>\n",
              "    <tr>\n",
              "      <th>max</th>\n",
              "      <td>0.890000</td>\n",
              "      <td>1.000000</td>\n",
              "      <td>1.000000</td>\n",
              "      <td>1.000000</td>\n",
              "      <td>0.880000</td>\n",
              "      <td>1.000000</td>\n",
              "      <td>0.990000</td>\n",
              "    </tr>\n",
              "  </tbody>\n",
              "</table>\n",
              "</div>"
            ],
            "text/plain": [
              "              mcg         gvh         lip  ...         aac        alm1        alm2\n",
              "count  336.000000  336.000000  336.000000  ...  336.000000  336.000000  336.000000\n",
              "mean     0.500060    0.500000    0.495476  ...    0.500030    0.500179    0.499732\n",
              "std      0.194634    0.148157    0.088495  ...    0.122376    0.215751    0.209411\n",
              "min      0.000000    0.160000    0.480000  ...    0.000000    0.030000    0.000000\n",
              "25%      0.340000    0.400000    0.480000  ...    0.420000    0.330000    0.350000\n",
              "50%      0.500000    0.470000    0.480000  ...    0.495000    0.455000    0.430000\n",
              "75%      0.662500    0.570000    0.480000  ...    0.570000    0.710000    0.710000\n",
              "max      0.890000    1.000000    1.000000  ...    0.880000    1.000000    0.990000\n",
              "\n",
              "[8 rows x 7 columns]"
            ]
          },
          "metadata": {
            "tags": []
          },
          "execution_count": 10
        }
      ]
    },
    {
      "cell_type": "markdown",
      "metadata": {
        "id": "v1kQpRFe_YM2"
      },
      "source": [
        "All the data for ecoli is numeric expect the label which we will have to encode."
      ]
    },
    {
      "cell_type": "code",
      "metadata": {
        "id": "CmNozuWx_XQu",
        "outputId": "06ec72b6-d3e8-43ca-93ac-25dc85ce7078",
        "colab": {
          "base_uri": "https://localhost:8080/",
          "height": 49
        }
      },
      "source": [
        "transfusion_df[(transfusion_df.isna().any(axis=1))]"
      ],
      "execution_count": 11,
      "outputs": [
        {
          "output_type": "execute_result",
          "data": {
            "text/html": [
              "<div>\n",
              "<style scoped>\n",
              "    .dataframe tbody tr th:only-of-type {\n",
              "        vertical-align: middle;\n",
              "    }\n",
              "\n",
              "    .dataframe tbody tr th {\n",
              "        vertical-align: top;\n",
              "    }\n",
              "\n",
              "    .dataframe thead th {\n",
              "        text-align: right;\n",
              "    }\n",
              "</style>\n",
              "<table border=\"1\" class=\"dataframe\">\n",
              "  <thead>\n",
              "    <tr style=\"text-align: right;\">\n",
              "      <th></th>\n",
              "      <th>Recency (months)</th>\n",
              "      <th>Frequency (times)</th>\n",
              "      <th>Monetary (c.c. blood)</th>\n",
              "      <th>Time (months)</th>\n",
              "      <th>whether he/she donated blood in March 2007</th>\n",
              "    </tr>\n",
              "  </thead>\n",
              "  <tbody>\n",
              "  </tbody>\n",
              "</table>\n",
              "</div>"
            ],
            "text/plain": [
              "Empty DataFrame\n",
              "Columns: [Recency (months), Frequency (times), Monetary (c.c. blood), Time (months), whether he/she donated blood in March 2007]\n",
              "Index: []"
            ]
          },
          "metadata": {
            "tags": []
          },
          "execution_count": 11
        }
      ]
    },
    {
      "cell_type": "code",
      "metadata": {
        "id": "5BcRDhsT_wqS",
        "outputId": "c826ffa2-b1b3-46be-e3bd-b5624e68bf92",
        "colab": {
          "base_uri": "https://localhost:8080/",
          "height": 49
        }
      },
      "source": [
        "ecoli_df_updated[(ecoli_df_updated.isna().any(axis=1))]"
      ],
      "execution_count": 12,
      "outputs": [
        {
          "output_type": "execute_result",
          "data": {
            "text/html": [
              "<div>\n",
              "<style scoped>\n",
              "    .dataframe tbody tr th:only-of-type {\n",
              "        vertical-align: middle;\n",
              "    }\n",
              "\n",
              "    .dataframe tbody tr th {\n",
              "        vertical-align: top;\n",
              "    }\n",
              "\n",
              "    .dataframe thead th {\n",
              "        text-align: right;\n",
              "    }\n",
              "</style>\n",
              "<table border=\"1\" class=\"dataframe\">\n",
              "  <thead>\n",
              "    <tr style=\"text-align: right;\">\n",
              "      <th></th>\n",
              "      <th>mcg</th>\n",
              "      <th>gvh</th>\n",
              "      <th>lip</th>\n",
              "      <th>chg</th>\n",
              "      <th>aac</th>\n",
              "      <th>alm1</th>\n",
              "      <th>alm2</th>\n",
              "      <th>Label</th>\n",
              "    </tr>\n",
              "  </thead>\n",
              "  <tbody>\n",
              "  </tbody>\n",
              "</table>\n",
              "</div>"
            ],
            "text/plain": [
              "Empty DataFrame\n",
              "Columns: [mcg, gvh, lip, chg, aac, alm1, alm2, Label]\n",
              "Index: []"
            ]
          },
          "metadata": {
            "tags": []
          },
          "execution_count": 12
        }
      ]
    },
    {
      "cell_type": "code",
      "metadata": {
        "id": "x0OsCobzgCdL"
      },
      "source": [
        "transfusionLabel = transfusion_df['whether he/she donated blood in March 2007']"
      ],
      "execution_count": 13,
      "outputs": []
    },
    {
      "cell_type": "code",
      "metadata": {
        "id": "8IpVa5Uwgg4n"
      },
      "source": [
        "transfusion_df_features = transfusion_df.drop('whether he/she donated blood in March 2007', axis= 1)"
      ],
      "execution_count": 14,
      "outputs": []
    },
    {
      "cell_type": "code",
      "metadata": {
        "id": "Qiprx9qJgpR8",
        "outputId": "2805c6bf-6151-41cd-a14c-383c907e460c",
        "colab": {
          "base_uri": "https://localhost:8080/",
          "height": 419
        }
      },
      "source": [
        "transfusion_df_features"
      ],
      "execution_count": 15,
      "outputs": [
        {
          "output_type": "execute_result",
          "data": {
            "text/html": [
              "<div>\n",
              "<style scoped>\n",
              "    .dataframe tbody tr th:only-of-type {\n",
              "        vertical-align: middle;\n",
              "    }\n",
              "\n",
              "    .dataframe tbody tr th {\n",
              "        vertical-align: top;\n",
              "    }\n",
              "\n",
              "    .dataframe thead th {\n",
              "        text-align: right;\n",
              "    }\n",
              "</style>\n",
              "<table border=\"1\" class=\"dataframe\">\n",
              "  <thead>\n",
              "    <tr style=\"text-align: right;\">\n",
              "      <th></th>\n",
              "      <th>Recency (months)</th>\n",
              "      <th>Frequency (times)</th>\n",
              "      <th>Monetary (c.c. blood)</th>\n",
              "      <th>Time (months)</th>\n",
              "    </tr>\n",
              "  </thead>\n",
              "  <tbody>\n",
              "    <tr>\n",
              "      <th>0</th>\n",
              "      <td>2</td>\n",
              "      <td>50</td>\n",
              "      <td>12500</td>\n",
              "      <td>98</td>\n",
              "    </tr>\n",
              "    <tr>\n",
              "      <th>1</th>\n",
              "      <td>0</td>\n",
              "      <td>13</td>\n",
              "      <td>3250</td>\n",
              "      <td>28</td>\n",
              "    </tr>\n",
              "    <tr>\n",
              "      <th>2</th>\n",
              "      <td>1</td>\n",
              "      <td>16</td>\n",
              "      <td>4000</td>\n",
              "      <td>35</td>\n",
              "    </tr>\n",
              "    <tr>\n",
              "      <th>3</th>\n",
              "      <td>2</td>\n",
              "      <td>20</td>\n",
              "      <td>5000</td>\n",
              "      <td>45</td>\n",
              "    </tr>\n",
              "    <tr>\n",
              "      <th>4</th>\n",
              "      <td>1</td>\n",
              "      <td>24</td>\n",
              "      <td>6000</td>\n",
              "      <td>77</td>\n",
              "    </tr>\n",
              "    <tr>\n",
              "      <th>...</th>\n",
              "      <td>...</td>\n",
              "      <td>...</td>\n",
              "      <td>...</td>\n",
              "      <td>...</td>\n",
              "    </tr>\n",
              "    <tr>\n",
              "      <th>743</th>\n",
              "      <td>23</td>\n",
              "      <td>2</td>\n",
              "      <td>500</td>\n",
              "      <td>38</td>\n",
              "    </tr>\n",
              "    <tr>\n",
              "      <th>744</th>\n",
              "      <td>21</td>\n",
              "      <td>2</td>\n",
              "      <td>500</td>\n",
              "      <td>52</td>\n",
              "    </tr>\n",
              "    <tr>\n",
              "      <th>745</th>\n",
              "      <td>23</td>\n",
              "      <td>3</td>\n",
              "      <td>750</td>\n",
              "      <td>62</td>\n",
              "    </tr>\n",
              "    <tr>\n",
              "      <th>746</th>\n",
              "      <td>39</td>\n",
              "      <td>1</td>\n",
              "      <td>250</td>\n",
              "      <td>39</td>\n",
              "    </tr>\n",
              "    <tr>\n",
              "      <th>747</th>\n",
              "      <td>72</td>\n",
              "      <td>1</td>\n",
              "      <td>250</td>\n",
              "      <td>72</td>\n",
              "    </tr>\n",
              "  </tbody>\n",
              "</table>\n",
              "<p>748 rows × 4 columns</p>\n",
              "</div>"
            ],
            "text/plain": [
              "     Recency (months)  Frequency (times)  Monetary (c.c. blood)  Time (months)\n",
              "0                   2                 50                  12500             98\n",
              "1                   0                 13                   3250             28\n",
              "2                   1                 16                   4000             35\n",
              "3                   2                 20                   5000             45\n",
              "4                   1                 24                   6000             77\n",
              "..                ...                ...                    ...            ...\n",
              "743                23                  2                    500             38\n",
              "744                21                  2                    500             52\n",
              "745                23                  3                    750             62\n",
              "746                39                  1                    250             39\n",
              "747                72                  1                    250             72\n",
              "\n",
              "[748 rows x 4 columns]"
            ]
          },
          "metadata": {
            "tags": []
          },
          "execution_count": 15
        }
      ]
    },
    {
      "cell_type": "code",
      "metadata": {
        "id": "4o4P-WTLAUEH"
      },
      "source": [
        "cancer_df = breastCancer_df.drop(breastCancer_df.index[[145,163,164,183,184,206,233,263,264]])"
      ],
      "execution_count": 16,
      "outputs": []
    },
    {
      "cell_type": "code",
      "metadata": {
        "id": "Lx6zwHOhFuFB",
        "outputId": "71b9821b-686a-4a33-cec6-076748ced7c1",
        "colab": {
          "base_uri": "https://localhost:8080/",
          "height": 419
        }
      },
      "source": [
        "cancer_df"
      ],
      "execution_count": 17,
      "outputs": [
        {
          "output_type": "execute_result",
          "data": {
            "text/html": [
              "<div>\n",
              "<style scoped>\n",
              "    .dataframe tbody tr th:only-of-type {\n",
              "        vertical-align: middle;\n",
              "    }\n",
              "\n",
              "    .dataframe tbody tr th {\n",
              "        vertical-align: top;\n",
              "    }\n",
              "\n",
              "    .dataframe thead th {\n",
              "        text-align: right;\n",
              "    }\n",
              "</style>\n",
              "<table border=\"1\" class=\"dataframe\">\n",
              "  <thead>\n",
              "    <tr style=\"text-align: right;\">\n",
              "      <th></th>\n",
              "      <th>class</th>\n",
              "      <th>age</th>\n",
              "      <th>menopause</th>\n",
              "      <th>tumor-size</th>\n",
              "      <th>inv-nodes</th>\n",
              "      <th>node-caps</th>\n",
              "      <th>deg-malig</th>\n",
              "      <th>breast</th>\n",
              "      <th>breast-quad</th>\n",
              "      <th>Label</th>\n",
              "    </tr>\n",
              "  </thead>\n",
              "  <tbody>\n",
              "    <tr>\n",
              "      <th>0</th>\n",
              "      <td>no-recurrence-events</td>\n",
              "      <td>30-39</td>\n",
              "      <td>premeno</td>\n",
              "      <td>30-34</td>\n",
              "      <td>0-2</td>\n",
              "      <td>no</td>\n",
              "      <td>3</td>\n",
              "      <td>left</td>\n",
              "      <td>left_low</td>\n",
              "      <td>no</td>\n",
              "    </tr>\n",
              "    <tr>\n",
              "      <th>1</th>\n",
              "      <td>no-recurrence-events</td>\n",
              "      <td>40-49</td>\n",
              "      <td>premeno</td>\n",
              "      <td>20-24</td>\n",
              "      <td>0-2</td>\n",
              "      <td>no</td>\n",
              "      <td>2</td>\n",
              "      <td>right</td>\n",
              "      <td>right_up</td>\n",
              "      <td>no</td>\n",
              "    </tr>\n",
              "    <tr>\n",
              "      <th>2</th>\n",
              "      <td>no-recurrence-events</td>\n",
              "      <td>40-49</td>\n",
              "      <td>premeno</td>\n",
              "      <td>20-24</td>\n",
              "      <td>0-2</td>\n",
              "      <td>no</td>\n",
              "      <td>2</td>\n",
              "      <td>left</td>\n",
              "      <td>left_low</td>\n",
              "      <td>no</td>\n",
              "    </tr>\n",
              "    <tr>\n",
              "      <th>3</th>\n",
              "      <td>no-recurrence-events</td>\n",
              "      <td>60-69</td>\n",
              "      <td>ge40</td>\n",
              "      <td>15-19</td>\n",
              "      <td>0-2</td>\n",
              "      <td>no</td>\n",
              "      <td>2</td>\n",
              "      <td>right</td>\n",
              "      <td>left_up</td>\n",
              "      <td>no</td>\n",
              "    </tr>\n",
              "    <tr>\n",
              "      <th>4</th>\n",
              "      <td>no-recurrence-events</td>\n",
              "      <td>40-49</td>\n",
              "      <td>premeno</td>\n",
              "      <td>0-4</td>\n",
              "      <td>0-2</td>\n",
              "      <td>no</td>\n",
              "      <td>2</td>\n",
              "      <td>right</td>\n",
              "      <td>right_low</td>\n",
              "      <td>no</td>\n",
              "    </tr>\n",
              "    <tr>\n",
              "      <th>...</th>\n",
              "      <td>...</td>\n",
              "      <td>...</td>\n",
              "      <td>...</td>\n",
              "      <td>...</td>\n",
              "      <td>...</td>\n",
              "      <td>...</td>\n",
              "      <td>...</td>\n",
              "      <td>...</td>\n",
              "      <td>...</td>\n",
              "      <td>...</td>\n",
              "    </tr>\n",
              "    <tr>\n",
              "      <th>281</th>\n",
              "      <td>recurrence-events</td>\n",
              "      <td>30-39</td>\n",
              "      <td>premeno</td>\n",
              "      <td>30-34</td>\n",
              "      <td>0-2</td>\n",
              "      <td>no</td>\n",
              "      <td>2</td>\n",
              "      <td>left</td>\n",
              "      <td>left_up</td>\n",
              "      <td>no</td>\n",
              "    </tr>\n",
              "    <tr>\n",
              "      <th>282</th>\n",
              "      <td>recurrence-events</td>\n",
              "      <td>30-39</td>\n",
              "      <td>premeno</td>\n",
              "      <td>20-24</td>\n",
              "      <td>0-2</td>\n",
              "      <td>no</td>\n",
              "      <td>3</td>\n",
              "      <td>left</td>\n",
              "      <td>left_up</td>\n",
              "      <td>yes</td>\n",
              "    </tr>\n",
              "    <tr>\n",
              "      <th>283</th>\n",
              "      <td>recurrence-events</td>\n",
              "      <td>60-69</td>\n",
              "      <td>ge40</td>\n",
              "      <td>20-24</td>\n",
              "      <td>0-2</td>\n",
              "      <td>no</td>\n",
              "      <td>1</td>\n",
              "      <td>right</td>\n",
              "      <td>left_up</td>\n",
              "      <td>no</td>\n",
              "    </tr>\n",
              "    <tr>\n",
              "      <th>284</th>\n",
              "      <td>recurrence-events</td>\n",
              "      <td>40-49</td>\n",
              "      <td>ge40</td>\n",
              "      <td>30-34</td>\n",
              "      <td>3-5</td>\n",
              "      <td>no</td>\n",
              "      <td>3</td>\n",
              "      <td>left</td>\n",
              "      <td>left_low</td>\n",
              "      <td>no</td>\n",
              "    </tr>\n",
              "    <tr>\n",
              "      <th>285</th>\n",
              "      <td>recurrence-events</td>\n",
              "      <td>50-59</td>\n",
              "      <td>ge40</td>\n",
              "      <td>30-34</td>\n",
              "      <td>3-5</td>\n",
              "      <td>no</td>\n",
              "      <td>3</td>\n",
              "      <td>left</td>\n",
              "      <td>left_low</td>\n",
              "      <td>no</td>\n",
              "    </tr>\n",
              "  </tbody>\n",
              "</table>\n",
              "<p>277 rows × 10 columns</p>\n",
              "</div>"
            ],
            "text/plain": [
              "                    class    age menopause  ... breast breast-quad Label\n",
              "0    no-recurrence-events  30-39   premeno  ...   left    left_low    no\n",
              "1    no-recurrence-events  40-49   premeno  ...  right    right_up    no\n",
              "2    no-recurrence-events  40-49   premeno  ...   left    left_low    no\n",
              "3    no-recurrence-events  60-69      ge40  ...  right     left_up    no\n",
              "4    no-recurrence-events  40-49   premeno  ...  right   right_low    no\n",
              "..                    ...    ...       ...  ...    ...         ...   ...\n",
              "281     recurrence-events  30-39   premeno  ...   left     left_up    no\n",
              "282     recurrence-events  30-39   premeno  ...   left     left_up   yes\n",
              "283     recurrence-events  60-69      ge40  ...  right     left_up    no\n",
              "284     recurrence-events  40-49      ge40  ...   left    left_low    no\n",
              "285     recurrence-events  50-59      ge40  ...   left    left_low    no\n",
              "\n",
              "[277 rows x 10 columns]"
            ]
          },
          "metadata": {
            "tags": []
          },
          "execution_count": 17
        }
      ]
    },
    {
      "cell_type": "code",
      "metadata": {
        "id": "QAdeI24iNCIZ"
      },
      "source": [
        "from sklearn.preprocessing import LabelEncoder\n",
        "le = LabelEncoder()\n",
        "for col in cancer_df:\n",
        "  cancer_df[col] = le.fit_transform(cancer_df[col])\n",
        "cancer_features_encode = cancer_df.drop('Label',axis=1)\n",
        "cancer_label = cancer_df['Label']"
      ],
      "execution_count": 18,
      "outputs": []
    },
    {
      "cell_type": "code",
      "metadata": {
        "id": "I69yJA5DNdZq",
        "outputId": "a2254281-d7b1-43ed-a41a-f1fe33fdc500",
        "colab": {
          "base_uri": "https://localhost:8080/",
          "height": 419
        }
      },
      "source": [
        "cancer_features_encode"
      ],
      "execution_count": 19,
      "outputs": [
        {
          "output_type": "execute_result",
          "data": {
            "text/html": [
              "<div>\n",
              "<style scoped>\n",
              "    .dataframe tbody tr th:only-of-type {\n",
              "        vertical-align: middle;\n",
              "    }\n",
              "\n",
              "    .dataframe tbody tr th {\n",
              "        vertical-align: top;\n",
              "    }\n",
              "\n",
              "    .dataframe thead th {\n",
              "        text-align: right;\n",
              "    }\n",
              "</style>\n",
              "<table border=\"1\" class=\"dataframe\">\n",
              "  <thead>\n",
              "    <tr style=\"text-align: right;\">\n",
              "      <th></th>\n",
              "      <th>class</th>\n",
              "      <th>age</th>\n",
              "      <th>menopause</th>\n",
              "      <th>tumor-size</th>\n",
              "      <th>inv-nodes</th>\n",
              "      <th>node-caps</th>\n",
              "      <th>deg-malig</th>\n",
              "      <th>breast</th>\n",
              "      <th>breast-quad</th>\n",
              "    </tr>\n",
              "  </thead>\n",
              "  <tbody>\n",
              "    <tr>\n",
              "      <th>0</th>\n",
              "      <td>0</td>\n",
              "      <td>1</td>\n",
              "      <td>2</td>\n",
              "      <td>5</td>\n",
              "      <td>0</td>\n",
              "      <td>0</td>\n",
              "      <td>2</td>\n",
              "      <td>0</td>\n",
              "      <td>1</td>\n",
              "    </tr>\n",
              "    <tr>\n",
              "      <th>1</th>\n",
              "      <td>0</td>\n",
              "      <td>2</td>\n",
              "      <td>2</td>\n",
              "      <td>3</td>\n",
              "      <td>0</td>\n",
              "      <td>0</td>\n",
              "      <td>1</td>\n",
              "      <td>1</td>\n",
              "      <td>4</td>\n",
              "    </tr>\n",
              "    <tr>\n",
              "      <th>2</th>\n",
              "      <td>0</td>\n",
              "      <td>2</td>\n",
              "      <td>2</td>\n",
              "      <td>3</td>\n",
              "      <td>0</td>\n",
              "      <td>0</td>\n",
              "      <td>1</td>\n",
              "      <td>0</td>\n",
              "      <td>1</td>\n",
              "    </tr>\n",
              "    <tr>\n",
              "      <th>3</th>\n",
              "      <td>0</td>\n",
              "      <td>4</td>\n",
              "      <td>0</td>\n",
              "      <td>2</td>\n",
              "      <td>0</td>\n",
              "      <td>0</td>\n",
              "      <td>1</td>\n",
              "      <td>1</td>\n",
              "      <td>2</td>\n",
              "    </tr>\n",
              "    <tr>\n",
              "      <th>4</th>\n",
              "      <td>0</td>\n",
              "      <td>2</td>\n",
              "      <td>2</td>\n",
              "      <td>0</td>\n",
              "      <td>0</td>\n",
              "      <td>0</td>\n",
              "      <td>1</td>\n",
              "      <td>1</td>\n",
              "      <td>3</td>\n",
              "    </tr>\n",
              "    <tr>\n",
              "      <th>...</th>\n",
              "      <td>...</td>\n",
              "      <td>...</td>\n",
              "      <td>...</td>\n",
              "      <td>...</td>\n",
              "      <td>...</td>\n",
              "      <td>...</td>\n",
              "      <td>...</td>\n",
              "      <td>...</td>\n",
              "      <td>...</td>\n",
              "    </tr>\n",
              "    <tr>\n",
              "      <th>281</th>\n",
              "      <td>1</td>\n",
              "      <td>1</td>\n",
              "      <td>2</td>\n",
              "      <td>5</td>\n",
              "      <td>0</td>\n",
              "      <td>0</td>\n",
              "      <td>1</td>\n",
              "      <td>0</td>\n",
              "      <td>2</td>\n",
              "    </tr>\n",
              "    <tr>\n",
              "      <th>282</th>\n",
              "      <td>1</td>\n",
              "      <td>1</td>\n",
              "      <td>2</td>\n",
              "      <td>3</td>\n",
              "      <td>0</td>\n",
              "      <td>0</td>\n",
              "      <td>2</td>\n",
              "      <td>0</td>\n",
              "      <td>2</td>\n",
              "    </tr>\n",
              "    <tr>\n",
              "      <th>283</th>\n",
              "      <td>1</td>\n",
              "      <td>4</td>\n",
              "      <td>0</td>\n",
              "      <td>3</td>\n",
              "      <td>0</td>\n",
              "      <td>0</td>\n",
              "      <td>0</td>\n",
              "      <td>1</td>\n",
              "      <td>2</td>\n",
              "    </tr>\n",
              "    <tr>\n",
              "      <th>284</th>\n",
              "      <td>1</td>\n",
              "      <td>2</td>\n",
              "      <td>0</td>\n",
              "      <td>5</td>\n",
              "      <td>4</td>\n",
              "      <td>0</td>\n",
              "      <td>2</td>\n",
              "      <td>0</td>\n",
              "      <td>1</td>\n",
              "    </tr>\n",
              "    <tr>\n",
              "      <th>285</th>\n",
              "      <td>1</td>\n",
              "      <td>3</td>\n",
              "      <td>0</td>\n",
              "      <td>5</td>\n",
              "      <td>4</td>\n",
              "      <td>0</td>\n",
              "      <td>2</td>\n",
              "      <td>0</td>\n",
              "      <td>1</td>\n",
              "    </tr>\n",
              "  </tbody>\n",
              "</table>\n",
              "<p>277 rows × 9 columns</p>\n",
              "</div>"
            ],
            "text/plain": [
              "     class  age  menopause  ...  deg-malig  breast  breast-quad\n",
              "0        0    1          2  ...          2       0            1\n",
              "1        0    2          2  ...          1       1            4\n",
              "2        0    2          2  ...          1       0            1\n",
              "3        0    4          0  ...          1       1            2\n",
              "4        0    2          2  ...          1       1            3\n",
              "..     ...  ...        ...  ...        ...     ...          ...\n",
              "281      1    1          2  ...          1       0            2\n",
              "282      1    1          2  ...          2       0            2\n",
              "283      1    4          0  ...          0       1            2\n",
              "284      1    2          0  ...          2       0            1\n",
              "285      1    3          0  ...          2       0            1\n",
              "\n",
              "[277 rows x 9 columns]"
            ]
          },
          "metadata": {
            "tags": []
          },
          "execution_count": 19
        }
      ]
    },
    {
      "cell_type": "code",
      "metadata": {
        "id": "C0UEcNCtNmmn"
      },
      "source": [
        "from sklearn.preprocessing import LabelEncoder\n",
        "ecoli_df_updated['Label'] = LabelEncoder().fit_transform(ecoli_df['Label'])"
      ],
      "execution_count": 20,
      "outputs": []
    },
    {
      "cell_type": "code",
      "metadata": {
        "id": "P77lFCOnN7s5",
        "outputId": "a3ed5af0-d7df-4417-ce00-cbeab197459e",
        "colab": {
          "base_uri": "https://localhost:8080/",
          "height": 419
        }
      },
      "source": [
        "ecoli_df_features = ecoli_df_updated.drop('Label',axis =1)\n",
        "ecoli_df_features"
      ],
      "execution_count": 21,
      "outputs": [
        {
          "output_type": "execute_result",
          "data": {
            "text/html": [
              "<div>\n",
              "<style scoped>\n",
              "    .dataframe tbody tr th:only-of-type {\n",
              "        vertical-align: middle;\n",
              "    }\n",
              "\n",
              "    .dataframe tbody tr th {\n",
              "        vertical-align: top;\n",
              "    }\n",
              "\n",
              "    .dataframe thead th {\n",
              "        text-align: right;\n",
              "    }\n",
              "</style>\n",
              "<table border=\"1\" class=\"dataframe\">\n",
              "  <thead>\n",
              "    <tr style=\"text-align: right;\">\n",
              "      <th></th>\n",
              "      <th>mcg</th>\n",
              "      <th>gvh</th>\n",
              "      <th>lip</th>\n",
              "      <th>chg</th>\n",
              "      <th>aac</th>\n",
              "      <th>alm1</th>\n",
              "      <th>alm2</th>\n",
              "    </tr>\n",
              "  </thead>\n",
              "  <tbody>\n",
              "    <tr>\n",
              "      <th>0</th>\n",
              "      <td>0.49</td>\n",
              "      <td>0.29</td>\n",
              "      <td>0.48</td>\n",
              "      <td>0.5</td>\n",
              "      <td>0.56</td>\n",
              "      <td>0.24</td>\n",
              "      <td>0.35</td>\n",
              "    </tr>\n",
              "    <tr>\n",
              "      <th>1</th>\n",
              "      <td>0.07</td>\n",
              "      <td>0.40</td>\n",
              "      <td>0.48</td>\n",
              "      <td>0.5</td>\n",
              "      <td>0.54</td>\n",
              "      <td>0.35</td>\n",
              "      <td>0.44</td>\n",
              "    </tr>\n",
              "    <tr>\n",
              "      <th>2</th>\n",
              "      <td>0.56</td>\n",
              "      <td>0.40</td>\n",
              "      <td>0.48</td>\n",
              "      <td>0.5</td>\n",
              "      <td>0.49</td>\n",
              "      <td>0.37</td>\n",
              "      <td>0.46</td>\n",
              "    </tr>\n",
              "    <tr>\n",
              "      <th>3</th>\n",
              "      <td>0.59</td>\n",
              "      <td>0.49</td>\n",
              "      <td>0.48</td>\n",
              "      <td>0.5</td>\n",
              "      <td>0.52</td>\n",
              "      <td>0.45</td>\n",
              "      <td>0.36</td>\n",
              "    </tr>\n",
              "    <tr>\n",
              "      <th>4</th>\n",
              "      <td>0.23</td>\n",
              "      <td>0.32</td>\n",
              "      <td>0.48</td>\n",
              "      <td>0.5</td>\n",
              "      <td>0.55</td>\n",
              "      <td>0.25</td>\n",
              "      <td>0.35</td>\n",
              "    </tr>\n",
              "    <tr>\n",
              "      <th>...</th>\n",
              "      <td>...</td>\n",
              "      <td>...</td>\n",
              "      <td>...</td>\n",
              "      <td>...</td>\n",
              "      <td>...</td>\n",
              "      <td>...</td>\n",
              "      <td>...</td>\n",
              "    </tr>\n",
              "    <tr>\n",
              "      <th>331</th>\n",
              "      <td>0.74</td>\n",
              "      <td>0.56</td>\n",
              "      <td>0.48</td>\n",
              "      <td>0.5</td>\n",
              "      <td>0.47</td>\n",
              "      <td>0.68</td>\n",
              "      <td>0.30</td>\n",
              "    </tr>\n",
              "    <tr>\n",
              "      <th>332</th>\n",
              "      <td>0.71</td>\n",
              "      <td>0.57</td>\n",
              "      <td>0.48</td>\n",
              "      <td>0.5</td>\n",
              "      <td>0.48</td>\n",
              "      <td>0.35</td>\n",
              "      <td>0.32</td>\n",
              "    </tr>\n",
              "    <tr>\n",
              "      <th>333</th>\n",
              "      <td>0.61</td>\n",
              "      <td>0.60</td>\n",
              "      <td>0.48</td>\n",
              "      <td>0.5</td>\n",
              "      <td>0.44</td>\n",
              "      <td>0.39</td>\n",
              "      <td>0.38</td>\n",
              "    </tr>\n",
              "    <tr>\n",
              "      <th>334</th>\n",
              "      <td>0.59</td>\n",
              "      <td>0.61</td>\n",
              "      <td>0.48</td>\n",
              "      <td>0.5</td>\n",
              "      <td>0.42</td>\n",
              "      <td>0.42</td>\n",
              "      <td>0.37</td>\n",
              "    </tr>\n",
              "    <tr>\n",
              "      <th>335</th>\n",
              "      <td>0.74</td>\n",
              "      <td>0.74</td>\n",
              "      <td>0.48</td>\n",
              "      <td>0.5</td>\n",
              "      <td>0.31</td>\n",
              "      <td>0.53</td>\n",
              "      <td>0.52</td>\n",
              "    </tr>\n",
              "  </tbody>\n",
              "</table>\n",
              "<p>336 rows × 7 columns</p>\n",
              "</div>"
            ],
            "text/plain": [
              "      mcg   gvh   lip  chg   aac  alm1  alm2\n",
              "0    0.49  0.29  0.48  0.5  0.56  0.24  0.35\n",
              "1    0.07  0.40  0.48  0.5  0.54  0.35  0.44\n",
              "2    0.56  0.40  0.48  0.5  0.49  0.37  0.46\n",
              "3    0.59  0.49  0.48  0.5  0.52  0.45  0.36\n",
              "4    0.23  0.32  0.48  0.5  0.55  0.25  0.35\n",
              "..    ...   ...   ...  ...   ...   ...   ...\n",
              "331  0.74  0.56  0.48  0.5  0.47  0.68  0.30\n",
              "332  0.71  0.57  0.48  0.5  0.48  0.35  0.32\n",
              "333  0.61  0.60  0.48  0.5  0.44  0.39  0.38\n",
              "334  0.59  0.61  0.48  0.5  0.42  0.42  0.37\n",
              "335  0.74  0.74  0.48  0.5  0.31  0.53  0.52\n",
              "\n",
              "[336 rows x 7 columns]"
            ]
          },
          "metadata": {
            "tags": []
          },
          "execution_count": 21
        }
      ]
    },
    {
      "cell_type": "code",
      "metadata": {
        "id": "6iV6P6GYetWk"
      },
      "source": [
        "ecoliLabel = ecoli_df_updated['Label']"
      ],
      "execution_count": 22,
      "outputs": []
    },
    {
      "cell_type": "code",
      "metadata": {
        "id": "FeDAepFkOAlY",
        "outputId": "bc0aa208-1eab-4040-9772-3740d7839549",
        "colab": {
          "base_uri": "https://localhost:8080/",
          "height": 34
        }
      },
      "source": [
        "import scipy.spatial.distance as distance\n",
        "# euclidean distance\n",
        "distance.euclidean\n",
        "\n",
        "# Minkowski distance\n",
        "distance.minkowski\n",
        "\n",
        "# cosine distance\n",
        "distance.cosine"
      ],
      "execution_count": 23,
      "outputs": [
        {
          "output_type": "execute_result",
          "data": {
            "text/plain": [
              "<function scipy.spatial.distance.cosine>"
            ]
          },
          "metadata": {
            "tags": []
          },
          "execution_count": 23
        }
      ]
    },
    {
      "cell_type": "code",
      "metadata": {
        "id": "n6F81raVO13d"
      },
      "source": [
        "def chi_square_distance(X, Y):\n",
        "    with np.errstate(divide=\"ignore\", invalid=\"ignore\"):\n",
        "        return (1 / 2) * np.sum(np.nan_to_num((np.square(X - Y) / (X + Y))))"
      ],
      "execution_count": 24,
      "outputs": []
    },
    {
      "cell_type": "code",
      "metadata": {
        "id": "YaxMqasNXfRp"
      },
      "source": [
        "#breastCancer section\n",
        "from sklearn.model_selection import train_test_split\n",
        "cancer_train, cancer_test, cancerLabel_train , cancerLabel_test = train_test_split(cancer_features_encode,cancer_label, test_size = 0.1, random_state = 12)"
      ],
      "execution_count": 25,
      "outputs": []
    },
    {
      "cell_type": "code",
      "metadata": {
        "id": "B13PRQ3HhFnU"
      },
      "source": [
        "from sklearn.model_selection import GridSearchCV\n",
        "from sklearn.neighbors import KNeighborsClassifier\n",
        "import scipy.spatial.distance as distance\n",
        "import numpy as np\n",
        "\n",
        "n_neighbors = [int(x) for x in np.linspace(1, 15, num = 15)]\n",
        "metric = [chi_square_distance, distance.euclidean, distance.minkowski, distance.cosine]\n",
        "param_distribs = {'n_neighbors':n_neighbors,'metric': metric}\n",
        "estimator = KNeighborsClassifier()\n",
        "from sklearn.model_selection import RepeatedKFold\n",
        "skfold = RepeatedKFold(n_splits=10,n_repeats=10,random_state=1)\n",
        "grid_search = GridSearchCV(estimator, param_distribs, n_jobs=5,cv=skfold)"
      ],
      "execution_count": 26,
      "outputs": []
    },
    {
      "cell_type": "code",
      "metadata": {
        "id": "Ctcbo9v-iYSA",
        "outputId": "5567e1cc-96b3-4479-8f27-225be04c8926",
        "colab": {
          "base_uri": "https://localhost:8080/",
          "height": 289
        }
      },
      "source": [
        "grid_search.fit(cancer_train,cancerLabel_train)"
      ],
      "execution_count": 27,
      "outputs": [
        {
          "output_type": "execute_result",
          "data": {
            "text/plain": [
              "GridSearchCV(cv=RepeatedKFold(n_repeats=10, n_splits=10, random_state=1),\n",
              "             error_score=nan,\n",
              "             estimator=KNeighborsClassifier(algorithm='auto', leaf_size=30,\n",
              "                                            metric='minkowski',\n",
              "                                            metric_params=None, n_jobs=None,\n",
              "                                            n_neighbors=5, p=2,\n",
              "                                            weights='uniform'),\n",
              "             iid='deprecated', n_jobs=5,\n",
              "             param_grid={'metric': [<function chi_square_distance at 0x7fd519f8c2f0>,\n",
              "                                    <function euclidean at 0x7fd520528510>,\n",
              "                                    <function minkowski at 0x7fd520528400>,\n",
              "                                    <function cosine at 0x7fd5205286a8>],\n",
              "                         'n_neighbors': [1, 2, 3, 4, 5, 6, 7, 8, 9, 10, 11, 12,\n",
              "                                         13, 14, 15]},\n",
              "             pre_dispatch='2*n_jobs', refit=True, return_train_score=False,\n",
              "             scoring=None, verbose=0)"
            ]
          },
          "metadata": {
            "tags": []
          },
          "execution_count": 27
        }
      ]
    },
    {
      "cell_type": "code",
      "metadata": {
        "id": "OITiamJRl9jW"
      },
      "source": [
        "df_cv = pd.DataFrame(grid_search.cv_results_)\n",
        "df_cv_updated = df_cv[['param_metric','param_n_neighbors','mean_test_score']]"
      ],
      "execution_count": 28,
      "outputs": []
    },
    {
      "cell_type": "code",
      "metadata": {
        "id": "U-igiscunuTU"
      },
      "source": [
        "metrics = ['chi_square_distance','chi_square_distance','chi_square_distance','chi_square_distance','chi_square_distance','chi_square_distance','chi_square_distance','chi_square_distance','chi_square_distance','chi_square_distance','chi_square_distance','chi_square_distance','chi_square_distance','chi_square_distance','chi_square_distance',\n",
        "           'euclidean','euclidean','euclidean','euclidean','euclidean','euclidean','euclidean','euclidean','euclidean','euclidean','euclidean','euclidean','euclidean','euclidean','euclidean',\n",
        "           'minkowski','minkowski','minkowski','minkowski','minkowski','minkowski','minkowski','minkowski','minkowski','minkowski','minkowski','minkowski','minkowski','minkowski','minkowski',\n",
        "           'cosine','cosine','cosine','cosine','cosine','cosine','cosine','cosine','cosine','cosine','cosine','cosine','cosine','cosine','cosine']"
      ],
      "execution_count": 29,
      "outputs": []
    },
    {
      "cell_type": "code",
      "metadata": {
        "id": "M-LUEFS-nI-p"
      },
      "source": [
        "df_cv_updated['metrics'] = metrics\n",
        "df_cv_updated"
      ],
      "execution_count": null,
      "outputs": []
    },
    {
      "cell_type": "code",
      "metadata": {
        "id": "e8PLK8kx2jD1",
        "outputId": "43a7b14f-ee03-450b-ff85-e9e9823af058",
        "colab": {
          "base_uri": "https://localhost:8080/",
          "height": 280
        }
      },
      "source": [
        "import matplotlib.pyplot as plt\n",
        "chi = df_cv_updated.drop(df_cv_updated.index[range(15,60)])\n",
        "euclidean = df_cv_updated.drop(df_cv_updated.index[30:])\n",
        "euclidean = euclidean.drop(euclidean.index[range(0,15)])\n",
        "minkowski = df_cv_updated.drop(df_cv_updated.index[45:])\n",
        "minkowski = minkowski.drop(minkowski.index[range(0,30)])\n",
        "cosine = df_cv_updated.drop(df_cv_updated.index[:45])\n",
        "plt.plot(chi['param_n_neighbors'],chi['mean_test_score'], label = 'chi_square_distance')\n",
        "plt.plot(euclidean['param_n_neighbors'],euclidean['mean_test_score'],label = 'euclidean')\n",
        "plt.plot(minkowski['param_n_neighbors'],minkowski['mean_test_score'],label = 'minkowski')\n",
        "plt.plot(cosine['param_n_neighbors'],cosine['mean_test_score'],label = 'cosine')\n",
        "plt.xlabel('param_n_neighbors')\n",
        "plt.ylabel('mean_test_score')\n",
        "plt.legend()\n",
        "plt.show()"
      ],
      "execution_count": 31,
      "outputs": [
        {
          "output_type": "display_data",
          "data": {
            "image/png": "[encoded data removed]",
            "text/plain": [
              "<Figure size 432x288 with 1 Axes>"
            ]
          },
          "metadata": {
            "tags": [],
            "needs_background": "light"
          }
        }
      ]
    },
    {
      "cell_type": "code",
      "metadata": {
        "id": "X3wIyfA8O4Yt"
      },
      "source": [
        "#ecoli section\n",
        "from sklearn.model_selection import train_test_split\n",
        "ecoli_train, ecoli_test, ecoliLabel_train , ecoliLabel_test = train_test_split(ecoli_df_updated,ecoliLabel, test_size = 0.1, random_state = 12)"
      ],
      "execution_count": 32,
      "outputs": []
    },
    {
      "cell_type": "code",
      "metadata": {
        "id": "fzH7M5SVqXUn"
      },
      "source": [
        "from sklearn.model_selection import GridSearchCV\n",
        "from sklearn.neighbors import KNeighborsClassifier\n",
        "import scipy.spatial.distance as distance\n",
        "import numpy as np\n",
        "\n",
        "n_neighbors = [int(x) for x in np.linspace(1, 15, num = 15)]\n",
        "metric = [chi_square_distance, distance.euclidean, distance.minkowski, distance.cosine]\n",
        "param_distribs = {'n_neighbors':n_neighbors,'metric': metric}\n",
        "estimator = KNeighborsClassifier()\n",
        "from sklearn.model_selection import RepeatedKFold\n",
        "skfold = RepeatedKFold(n_splits=10,n_repeats=10,random_state=1)\n",
        "grid_search = GridSearchCV(estimator, param_distribs, n_jobs=-1,cv=skfold)"
      ],
      "execution_count": 52,
      "outputs": []
    },
    {
      "cell_type": "code",
      "metadata": {
        "id": "39Y1qG7tqUL0",
        "outputId": "053b8133-8b5e-48a3-cb2a-09e028d352f3",
        "colab": {
          "base_uri": "https://localhost:8080/",
          "height": 289
        }
      },
      "source": [
        "grid_search.fit(ecoli_train,ecoliLabel_train)"
      ],
      "execution_count": 53,
      "outputs": [
        {
          "output_type": "execute_result",
          "data": {
            "text/plain": [
              "GridSearchCV(cv=RepeatedKFold(n_repeats=10, n_splits=10, random_state=1),\n",
              "             error_score=nan,\n",
              "             estimator=KNeighborsClassifier(algorithm='auto', leaf_size=30,\n",
              "                                            metric='minkowski',\n",
              "                                            metric_params=None, n_jobs=None,\n",
              "                                            n_neighbors=5, p=2,\n",
              "                                            weights='uniform'),\n",
              "             iid='deprecated', n_jobs=-1,\n",
              "             param_grid={'metric': [<function chi_square_distance at 0x7fd519f8c2f0>,\n",
              "                                    <function euclidean at 0x7fd520528510>,\n",
              "                                    <function minkowski at 0x7fd520528400>,\n",
              "                                    <function cosine at 0x7fd5205286a8>],\n",
              "                         'n_neighbors': [1, 2, 3, 4, 5, 6, 7, 8, 9, 10, 11, 12,\n",
              "                                         13, 14, 15]},\n",
              "             pre_dispatch='2*n_jobs', refit=True, return_train_score=False,\n",
              "             scoring=None, verbose=0)"
            ]
          },
          "metadata": {
            "tags": []
          },
          "execution_count": 53
        }
      ]
    },
    {
      "cell_type": "code",
      "metadata": {
        "id": "2IB8caDytC4L"
      },
      "source": [
        "df_cv = pd.DataFrame(grid_search.cv_results_)\n",
        "df_cv_updated = df_cv[['param_metric','param_n_neighbors','mean_test_score']]"
      ],
      "execution_count": 55,
      "outputs": []
    },
    {
      "cell_type": "code",
      "metadata": {
        "id": "WG5Oen5YtJ6O",
        "outputId": "02f58f83-0680-4f52-844a-d4a703f505e7",
        "colab": {
          "base_uri": "https://localhost:8080/",
          "height": 280
        }
      },
      "source": [
        "import matplotlib.pyplot as plt\n",
        "chi = df_cv_updated.drop(df_cv_updated.index[range(15,60)])\n",
        "euclidean = df_cv_updated.drop(df_cv_updated.index[30:])\n",
        "euclidean = euclidean.drop(euclidean.index[range(0,15)])\n",
        "minkowski = df_cv_updated.drop(df_cv_updated.index[45:])\n",
        "minkowski = minkowski.drop(minkowski.index[range(0,30)])\n",
        "cosine = df_cv_updated.drop(df_cv_updated.index[:45])\n",
        "plt.plot(chi['param_n_neighbors'],chi['mean_test_score'], label = 'chi_square_distance')\n",
        "plt.plot(euclidean['param_n_neighbors'],euclidean['mean_test_score'],label = 'euclidean')\n",
        "plt.plot(minkowski['param_n_neighbors'],minkowski['mean_test_score'],label = 'minkowski')\n",
        "plt.plot(cosine['param_n_neighbors'],cosine['mean_test_score'],label = 'cosine')\n",
        "plt.xlabel('param_n_neighbors')\n",
        "plt.ylabel('mean_test_score')\n",
        "plt.legend()\n",
        "plt.show()"
      ],
      "execution_count": 57,
      "outputs": [
        {
          "output_type": "display_data",
          "data": {
            "image/png": "[encoded data removed]",
            "text/plain": [
              "<Figure size 432x288 with 1 Axes>"
            ]
          },
          "metadata": {
            "tags": [],
            "needs_background": "light"
          }
        }
      ]
    },
    {
      "cell_type": "code",
      "metadata": {
        "id": "fafxv1pPe10V"
      },
      "source": [
        "#transfusion section\n",
        "from sklearn.model_selection import train_test_split\n",
        "blood_train, blood_test, bloodLabel_train , bloodLabel_test = train_test_split(transfusion_df_features,transfusionLabel, test_size = 0.1, random_state = 12)"
      ],
      "execution_count": 41,
      "outputs": []
    },
    {
      "cell_type": "code",
      "metadata": {
        "id": "76B524VHhG85"
      },
      "source": [
        "from sklearn.model_selection import GridSearchCV\n",
        "from sklearn.neighbors import KNeighborsClassifier\n",
        "import scipy.spatial.distance as distance\n",
        "import numpy as np\n",
        "\n",
        "n_neighbors = [int(x) for x in np.linspace(1, 15, num = 15)]\n",
        "metric = [chi_square_distance, distance.euclidean, distance.minkowski, distance.cosine]\n",
        "param_distribs = {'n_neighbors':n_neighbors,'metric': metric}\n",
        "estimator = KNeighborsClassifier()\n",
        "from sklearn.model_selection import RepeatedKFold\n",
        "skfold = RepeatedKFold(n_splits=10,n_repeats=10,random_state=1)\n",
        "grid_search = GridSearchCV(estimator, param_distribs, n_jobs=5,cv=skfold)"
      ],
      "execution_count": 42,
      "outputs": []
    },
    {
      "cell_type": "code",
      "metadata": {
        "id": "7G0fEEz0NXLg",
        "outputId": "a16be50a-bf9c-49a2-9131-93e0f843e24d",
        "colab": {
          "base_uri": "https://localhost:8080/",
          "height": 289
        }
      },
      "source": [
        "grid_search.fit(blood_train,bloodLabel_train)"
      ],
      "execution_count": 43,
      "outputs": [
        {
          "output_type": "execute_result",
          "data": {
            "text/plain": [
              "GridSearchCV(cv=RepeatedKFold(n_repeats=10, n_splits=10, random_state=1),\n",
              "             error_score=nan,\n",
              "             estimator=KNeighborsClassifier(algorithm='auto', leaf_size=30,\n",
              "                                            metric='minkowski',\n",
              "                                            metric_params=None, n_jobs=None,\n",
              "                                            n_neighbors=5, p=2,\n",
              "                                            weights='uniform'),\n",
              "             iid='deprecated', n_jobs=5,\n",
              "             param_grid={'metric': [<function chi_square_distance at 0x7fd519f8c2f0>,\n",
              "                                    <function euclidean at 0x7fd520528510>,\n",
              "                                    <function minkowski at 0x7fd520528400>,\n",
              "                                    <function cosine at 0x7fd5205286a8>],\n",
              "                         'n_neighbors': [1, 2, 3, 4, 5, 6, 7, 8, 9, 10, 11, 12,\n",
              "                                         13, 14, 15]},\n",
              "             pre_dispatch='2*n_jobs', refit=True, return_train_score=False,\n",
              "             scoring=None, verbose=0)"
            ]
          },
          "metadata": {
            "tags": []
          },
          "execution_count": 43
        }
      ]
    },
    {
      "cell_type": "code",
      "metadata": {
        "id": "evfLhAsGjiRf"
      },
      "source": [
        "df_cv = pd.DataFrame(grid_search.cv_results_)\n",
        "df_cv_updated = df_cv[['param_metric','param_n_neighbors','mean_test_score']]"
      ],
      "execution_count": 46,
      "outputs": []
    },
    {
      "cell_type": "code",
      "metadata": {
        "id": "gId2kMC6jimx",
        "outputId": "f6adce79-4448-4602-c5db-d10087a0b18c",
        "colab": {
          "base_uri": "https://localhost:8080/",
          "height": 280
        }
      },
      "source": [
        "import matplotlib.pyplot as plt\n",
        "chi = df_cv_updated.drop(df_cv_updated.index[range(15,60)])\n",
        "euclidean = df_cv_updated.drop(df_cv_updated.index[30:])\n",
        "euclidean = euclidean.drop(euclidean.index[range(0,15)])\n",
        "minkowski = df_cv_updated.drop(df_cv_updated.index[45:])\n",
        "minkowski = minkowski.drop(minkowski.index[range(0,30)])\n",
        "cosine = df_cv_updated.drop(df_cv_updated.index[:45])\n",
        "plt.plot(chi['param_n_neighbors'],chi['mean_test_score'], label = 'chi_square_distance')\n",
        "plt.plot(euclidean['param_n_neighbors'],euclidean['mean_test_score'],label = 'euclidean')\n",
        "plt.plot(minkowski['param_n_neighbors'],minkowski['mean_test_score'],label = 'minkowski')\n",
        "plt.plot(cosine['param_n_neighbors'],cosine['mean_test_score'],label = 'cosine')\n",
        "plt.xlabel('param_n_neighbors')\n",
        "plt.ylabel('mean_test_score')\n",
        "plt.legend()\n",
        "plt.show()"
      ],
      "execution_count": 47,
      "outputs": [
        {
          "output_type": "display_data",
          "data": {
            "image/png": "[encoded data removed]",
            "text/plain": [
              "<Figure size 432x288 with 1 Axes>"
            ]
          },
          "metadata": {
            "tags": [],
            "needs_background": "light"
          }
        }
      ]
    },
    {
      "cell_type": "markdown",
      "metadata": {
        "id": "qKt73UWAkyNP"
      },
      "source": [
        "Breast Cancer\n",
        "Highest accuracy at ~0.765 for K = 15 and using chi_square_distance\n",
        "\n"
      ]
    },
    {
      "cell_type": "markdown",
      "metadata": {
        "id": "kIGjrKqXkCK9"
      },
      "source": [
        "![Cancer.png](data:image/png;base64,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)"
      ]
    },
    {
      "cell_type": "markdown",
      "metadata": {
        "id": "IlfEUEnry-6z"
      },
      "source": [
        "Ecoli\n",
        "Highest accuracy at ~0.996 for K = 1 and using minkowski"
      ]
    },
    {
      "cell_type": "markdown",
      "metadata": {
        "id": "Qa1Bqjsjkoox"
      },
      "source": [
        "![Ecoli.png](data:image/png;base64,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)"
      ]
    },
    {
      "cell_type": "markdown",
      "metadata": {
        "id": "pWjHvlevksbM"
      },
      "source": [
        "Transfusion\n",
        "highest accuracy ~0.77 at K = 9 and using cosine"
      ]
    },
    {
      "cell_type": "markdown",
      "metadata": {
        "id": "ykR_zpT_ktmm"
      },
      "source": [
        "![Blood.png](data:image/png;base64,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)"
      ]
    }
  ]
}