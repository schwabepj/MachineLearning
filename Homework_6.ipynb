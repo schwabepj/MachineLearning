{
  "nbformat": 4,
  "nbformat_minor": 0,
  "metadata": {
    "colab": {
      "name": "Homework_6.ipynb",
      "provenance": []
    },
    "kernelspec": {
      "name": "python3",
      "display_name": "Python 3"
    }
  },
  "cells": [
    {
      "cell_type": "code",
      "metadata": {
        "id": "oSHAavFZfQAa"
      },
      "source": [
        " import numpy as np\n",
        " X_train = np.array([[8,8],[0,1],[6,4],[3,3],[4,8],[1,1],[4,6],[2,5]]) \n",
        " y_train = np.array([1,-1,1,-1,1,-1,1,1])"
      ],
      "execution_count": null,
      "outputs": []
    },
    {
      "cell_type": "code",
      "metadata": {
        "id": "H0HHl6Wnbvg1"
      },
      "source": [
        "########################################################\n",
        "# hw06: Implementation of the Perceptron_Train algorithm\n",
        "########################################################\n",
        "def Perceptron_Train(X, y, max_iter=100, verbose=0): \n",
        "  weights = np.array([1, 1])\n",
        "  bias = 0\n",
        "  accuracy_log = []\n",
        "  for epoch in range(0,max_iter):\n",
        "    if verbose: print(\"Start epoch \", epoch) \n",
        "    errors = 0\n",
        "    accuracy =0\n",
        "    # check all points\n",
        "    for n in range(0,X.shape[0]):\n",
        "      if verbose: print(\"Start data point \", n)\n",
        "      feature = X[n]\n",
        "      y_label = y[n]\n",
        "      output = np.dot(weights,X[n])+bias\n",
        "      if y_label * output <=0:\n",
        "        if verbose: print(\"Start update weights\") \n",
        "        weights = weights + y_label * feature \n",
        "        bias = bias + y_label\n",
        "        errors += 1\n",
        "      else:\n",
        "        if verbose: print(\"Do nothing\")\n",
        "      if verbose: print(\"Latest weights: \", weights, \" bias: \", bias, end=\"\\n\\n\") \n",
        "      if verbose: print(\"Total errors afer epoch \", epoch, \": \", errors)\n",
        "    accuracy = 1 - errors/X.shape[0] \n",
        "    accuracy_log.append(accuracy) \n",
        "    if errors == 0:\n",
        "      print(\"Found classifier with errors: \", errors) \n",
        "      print(\"Weights: \",weights)\n",
        "      print(\"bias: \",bias)\n",
        "      break\n",
        "  return weights,bias,accuracy_log"
      ],
      "execution_count": null,
      "outputs": []
    },
    {
      "cell_type": "code",
      "metadata": {
        "id": "wZZHsgNBWGxP"
      },
      "source": [
        "# hw06: Implementation of the Perceptron_Test algorithm\n",
        "########################################################\n",
        "def Perceptron_Test(w,b, X):\n",
        "  output_label = []\n",
        "  for n in range(0,X.shape[0]):\n",
        "    feature = X[n]\n",
        "    output = np.dot(w,X[n])+b \n",
        "    if output > 0:\n",
        "      output_label.append(1) \n",
        "    else:\n",
        "      output_label.append(-1) \n",
        "  return output_label"
      ],
      "execution_count": null,
      "outputs": []
    },
    {
      "cell_type": "code",
      "metadata": {
        "id": "Arf1nC1bmnZ7"
      },
      "source": [
        "best_weights, bias, accuracy_log = Perceptron_Train(X_train,y_train, max_iter= 1, verbose= 1)"
      ],
      "execution_count": null,
      "outputs": []
    },
    {
      "cell_type": "code",
      "metadata": {
        "id": "fof2fqC2qlWj",
        "outputId": "2b30ce2d-c00f-4f73-fa27-9305ffe702d5",
        "colab": {
          "base_uri": "https://localhost:8080/",
          "height": 85
        }
      },
      "source": [
        "best_weights, bias, accuracy_log = Perceptron_Train(X_train,y_train, max_iter= 100, verbose= 0)\n",
        "len(accuracy_log)"
      ],
      "execution_count": null,
      "outputs": [
        {
          "output_type": "stream",
          "text": [
            "Found classifier with errors:  0\n",
            "Weights:  [-1  8]\n",
            "bias:  -23\n"
          ],
          "name": "stdout"
        },
        {
          "output_type": "execute_result",
          "data": {
            "text/plain": [
              "37"
            ]
          },
          "metadata": {
            "tags": []
          },
          "execution_count": 30
        }
      ]
    },
    {
      "cell_type": "code",
      "metadata": {
        "id": "ty0TrUp2rSka",
        "outputId": "bd2c5999-ef37-42f3-d39f-f00db7e6853f",
        "colab": {
          "base_uri": "https://localhost:8080/",
          "height": 265
        }
      },
      "source": [
        "#Plot of points\n",
        "import matplotlib.pyplot as plt\n",
        "plt.scatter(X_train[:,0],X_train[:,1],c=y_train) \n",
        "x = np.linspace(0,8,100)\n",
        "y = 1/8*x+23/8\n",
        "plt.plot(x, y, '-r')\n",
        "plt.show()"
      ],
      "execution_count": null,
      "outputs": [
        {
          "output_type": "display_data",
          "data": {
            "image/png": "[encoded data removed]",
            "text/plain": [
              "<Figure size 432x288 with 1 Axes>"
            ]
          },
          "metadata": {
            "tags": [],
            "needs_background": "light"
          }
        }
      ]
    },
    {
      "cell_type": "code",
      "metadata": {
        "id": "ojnjPZYFtT09"
      },
      "source": [
        " X_test = np.array([[8,1],[0,2],[6,5],[3,2],[4,2],[1,1],[4,7],[2,6]]) \n",
        " y_test = np.array([1,-1,1,-1,1,-1,1,1])"
      ],
      "execution_count": null,
      "outputs": []
    },
    {
      "cell_type": "code",
      "metadata": {
        "id": "3NtEUt4itnbu",
        "outputId": "43475ff3-0452-47a7-b333-3b9e61bd6fed",
        "colab": {
          "base_uri": "https://localhost:8080/",
          "height": 170
        }
      },
      "source": [
        "predicted_labels = Perceptron_Test(best_weights,bias,X_test)\n",
        "from sklearn.metrics import classification_report \n",
        "print(classification_report(y_test, predicted_labels))"
      ],
      "execution_count": null,
      "outputs": [
        {
          "output_type": "stream",
          "text": [
            "              precision    recall  f1-score   support\n",
            "\n",
            "          -1       0.60      1.00      0.75         3\n",
            "           1       1.00      0.60      0.75         5\n",
            "\n",
            "    accuracy                           0.75         8\n",
            "   macro avg       0.80      0.80      0.75         8\n",
            "weighted avg       0.85      0.75      0.75         8\n",
            "\n"
          ],
          "name": "stdout"
        }
      ]
    },
    {
      "cell_type": "code",
      "metadata": {
        "id": "cA6Bf3X8vfvy",
        "outputId": "30761d8b-fd6a-4c43-c877-be57b1b13af1",
        "colab": {
          "base_uri": "https://localhost:8080/",
          "height": 170
        }
      },
      "source": [
        "from sklearn.linear_model import Perceptron\n",
        "ppn = Perceptron(n_jobs=100, eta0=0.1, random_state=0)\n",
        "ppn.fit(X_train,y_train)\n",
        "y_pred = ppn.predict(X_test)\n",
        "print(classification_report(y_test, y_pred))"
      ],
      "execution_count": null,
      "outputs": [
        {
          "output_type": "stream",
          "text": [
            "              precision    recall  f1-score   support\n",
            "\n",
            "          -1       1.00      0.67      0.80         3\n",
            "           1       0.83      1.00      0.91         5\n",
            "\n",
            "    accuracy                           0.88         8\n",
            "   macro avg       0.92      0.83      0.85         8\n",
            "weighted avg       0.90      0.88      0.87         8\n",
            "\n"
          ],
          "name": "stdout"
        }
      ]
    },
    {
      "cell_type": "markdown",
      "metadata": {
        "id": "HVuCjMTrwna2"
      },
      "source": [
        "\n",
        "Our code got an accuracy of 0.75 and sklearn got an accuracy of 0.88 which means that sklearn predicted one more correct than our algorithm"
      ]
    },
    {
      "cell_type": "code",
      "metadata": {
        "id": "hNZRXYv5wVuj",
        "outputId": "5a9ad14e-37a2-4e08-c5f5-ad7545593976",
        "colab": {
          "base_uri": "https://localhost:8080/",
          "height": 34
        }
      },
      "source": [
        "########################################################\n",
        "# hw06: Part 3\n",
        "########################################################\n",
        "from google.colab import drive\n",
        "drive.mount('/content/drive')"
      ],
      "execution_count": 19,
      "outputs": [
        {
          "output_type": "stream",
          "text": [
            "Drive already mounted at /content/drive; to attempt to forcibly remount, call drive.mount(\"/content/drive\", force_remount=True).\n"
          ],
          "name": "stdout"
        }
      ]
    },
    {
      "cell_type": "code",
      "metadata": {
        "id": "xPuQZoqmCvxl",
        "outputId": "2aa1ec4c-8d40-40f0-ecb7-6e99da5c5939",
        "colab": {
          "base_uri": "https://localhost:8080/",
          "height": 68
        }
      },
      "source": [
        "%cd /content/drive/'My Drive'/'Colab Notebooks'/Data\n",
        "%ls"
      ],
      "execution_count": 20,
      "outputs": [
        {
          "output_type": "stream",
          "text": [
            "/content/drive/My Drive/Colab Notebooks/Data\n",
            "breast-cancer.data  car.data    Finance2015-2019.xlsx  SPECTF.train\n",
            "breastCancer.xlsx   ecoli.data  SPECTF.test            transfusion.data\n"
          ],
          "name": "stdout"
        }
      ]
    },
    {
      "cell_type": "code",
      "metadata": {
        "id": "VrL7dxdUCzEP"
      },
      "source": [
        "import pandas as pd\n",
        "finance_df = pd.read_excel(\"Finance2015-2019.xlsx\")"
      ],
      "execution_count": 21,
      "outputs": []
    },
    {
      "cell_type": "code",
      "metadata": {
        "id": "U6n6EiZZDFu5",
        "outputId": "0221abd2-43c1-4e65-b477-1f774b134f61",
        "colab": {
          "base_uri": "https://localhost:8080/",
          "height": 762
        }
      },
      "source": [
        "Finance_df = finance_df.drop(columns=\"Unnamed: 16\")\n",
        "Finance_df"
      ],
      "execution_count": 23,
      "outputs": [
        {
          "output_type": "execute_result",
          "data": {
            "text/html": [
              "<div>\n",
              "<style scoped>\n",
              "    .dataframe tbody tr th:only-of-type {\n",
              "        vertical-align: middle;\n",
              "    }\n",
              "\n",
              "    .dataframe tbody tr th {\n",
              "        vertical-align: top;\n",
              "    }\n",
              "\n",
              "    .dataframe thead th {\n",
              "        text-align: right;\n",
              "    }\n",
              "</style>\n",
              "<table border=\"1\" class=\"dataframe\">\n",
              "  <thead>\n",
              "    <tr style=\"text-align: right;\">\n",
              "      <th></th>\n",
              "      <th>COUNTY DISTRICT CODE</th>\n",
              "      <th>DISTRICT NAME</th>\n",
              "      <th>YEAR</th>\n",
              "      <th>PK ENROLLMENT</th>\n",
              "      <th>ENROLLMENT</th>\n",
              "      <th>PERCENT LOCAL</th>\n",
              "      <th>PERCENT STATE</th>\n",
              "      <th>PERCENT FEDERAL</th>\n",
              "      <th>AVERAGE DAILY ATTENDANCE</th>\n",
              "      <th>TOTAL EXPENDITURE</th>\n",
              "      <th>TAX RATE CEILING OPERATING FUNDS</th>\n",
              "      <th>ADJUSTED TAX RATE INCIDENTAL</th>\n",
              "      <th>ADJUSTED TAX RATE TEACHERS</th>\n",
              "      <th>ADJUSTED TAX RATE DEBT SERVICE</th>\n",
              "      <th>ADJUSTED TAX RATE CAPITAL PROJECTS</th>\n",
              "      <th>ASSESSED VALUATION</th>\n",
              "    </tr>\n",
              "  </thead>\n",
              "  <tbody>\n",
              "    <tr>\n",
              "      <th>0</th>\n",
              "      <td>001-090</td>\n",
              "      <td>ADAIR CO. R-I</td>\n",
              "      <td>2019</td>\n",
              "      <td>20.0</td>\n",
              "      <td>219.0</td>\n",
              "      <td>0.375536</td>\n",
              "      <td>0.506465</td>\n",
              "      <td>0.118000</td>\n",
              "      <td>214.2832</td>\n",
              "      <td>3085586.95</td>\n",
              "      <td>3.750000e+00</td>\n",
              "      <td>3.75000</td>\n",
              "      <td>0.0000</td>\n",
              "      <td>0.5756</td>\n",
              "      <td>0.00</td>\n",
              "      <td>16662758.0</td>\n",
              "    </tr>\n",
              "    <tr>\n",
              "      <th>1</th>\n",
              "      <td>001-091</td>\n",
              "      <td>KIRKSVILLE R-III</td>\n",
              "      <td>2019</td>\n",
              "      <td>169.0</td>\n",
              "      <td>2419.0</td>\n",
              "      <td>0.478679</td>\n",
              "      <td>0.435423</td>\n",
              "      <td>0.085898</td>\n",
              "      <td>2395.6101</td>\n",
              "      <td>29716073.56</td>\n",
              "      <td>3.343400e+00</td>\n",
              "      <td>1.67170</td>\n",
              "      <td>1.6717</td>\n",
              "      <td>0.8190</td>\n",
              "      <td>0.00</td>\n",
              "      <td>236932486.0</td>\n",
              "    </tr>\n",
              "    <tr>\n",
              "      <th>2</th>\n",
              "      <td>001-092</td>\n",
              "      <td>ADAIR CO. R-II</td>\n",
              "      <td>2019</td>\n",
              "      <td>0.0</td>\n",
              "      <td>149.0</td>\n",
              "      <td>0.390852</td>\n",
              "      <td>0.508291</td>\n",
              "      <td>0.100857</td>\n",
              "      <td>138.1392</td>\n",
              "      <td>2540367.71</td>\n",
              "      <td>3.641600e+00</td>\n",
              "      <td>3.57690</td>\n",
              "      <td>0.0000</td>\n",
              "      <td>0.6511</td>\n",
              "      <td>0.00</td>\n",
              "      <td>15147176.0</td>\n",
              "    </tr>\n",
              "    <tr>\n",
              "      <th>3</th>\n",
              "      <td>002-089</td>\n",
              "      <td>NORTH ANDREW CO. R-VI</td>\n",
              "      <td>2019</td>\n",
              "      <td>9.0</td>\n",
              "      <td>359.0</td>\n",
              "      <td>0.393369</td>\n",
              "      <td>0.546242</td>\n",
              "      <td>0.060389</td>\n",
              "      <td>332.6979</td>\n",
              "      <td>4702172.33</td>\n",
              "      <td>4.344200e+00</td>\n",
              "      <td>3.36420</td>\n",
              "      <td>0.0000</td>\n",
              "      <td>0.0000</td>\n",
              "      <td>0.98</td>\n",
              "      <td>24045086.0</td>\n",
              "    </tr>\n",
              "    <tr>\n",
              "      <th>4</th>\n",
              "      <td>002-090</td>\n",
              "      <td>AVENUE CITY R-IX</td>\n",
              "      <td>2019</td>\n",
              "      <td>20.0</td>\n",
              "      <td>159.0</td>\n",
              "      <td>0.564473</td>\n",
              "      <td>0.392038</td>\n",
              "      <td>0.043489</td>\n",
              "      <td>203.5307</td>\n",
              "      <td>4454248.30</td>\n",
              "      <td>3.400700e+00</td>\n",
              "      <td>3.40070</td>\n",
              "      <td>0.0000</td>\n",
              "      <td>0.9800</td>\n",
              "      <td>0.00</td>\n",
              "      <td>25869781.0</td>\n",
              "    </tr>\n",
              "    <tr>\n",
              "      <th>...</th>\n",
              "      <td>...</td>\n",
              "      <td>...</td>\n",
              "      <td>...</td>\n",
              "      <td>...</td>\n",
              "      <td>...</td>\n",
              "      <td>...</td>\n",
              "      <td>...</td>\n",
              "      <td>...</td>\n",
              "      <td>...</td>\n",
              "      <td>...</td>\n",
              "      <td>...</td>\n",
              "      <td>...</td>\n",
              "      <td>...</td>\n",
              "      <td>...</td>\n",
              "      <td>...</td>\n",
              "      <td>...</td>\n",
              "    </tr>\n",
              "    <tr>\n",
              "      <th>2778</th>\n",
              "      <td>115920</td>\n",
              "      <td>SOUTH CITY PREPARATORY ACADEMY</td>\n",
              "      <td>2015</td>\n",
              "      <td>NaN</td>\n",
              "      <td>188.0</td>\n",
              "      <td>0.405571</td>\n",
              "      <td>0.457217</td>\n",
              "      <td>0.137212</td>\n",
              "      <td>177.0769</td>\n",
              "      <td>2287820.28</td>\n",
              "      <td>3.885763e+06</td>\n",
              "      <td>12919.92507</td>\n",
              "      <td>NaN</td>\n",
              "      <td>NaN</td>\n",
              "      <td>NaN</td>\n",
              "      <td>NaN</td>\n",
              "    </tr>\n",
              "    <tr>\n",
              "      <th>2779</th>\n",
              "      <td>115921</td>\n",
              "      <td>JAMAA LEARNING CENTER</td>\n",
              "      <td>2015</td>\n",
              "      <td>NaN</td>\n",
              "      <td>151.0</td>\n",
              "      <td>0.121657</td>\n",
              "      <td>0.718431</td>\n",
              "      <td>0.159912</td>\n",
              "      <td>139.0963</td>\n",
              "      <td>1706697.52</td>\n",
              "      <td>1.919821e+06</td>\n",
              "      <td>12269.89877</td>\n",
              "      <td>NaN</td>\n",
              "      <td>NaN</td>\n",
              "      <td>NaN</td>\n",
              "      <td>NaN</td>\n",
              "    </tr>\n",
              "    <tr>\n",
              "      <th>2780</th>\n",
              "      <td>115922</td>\n",
              "      <td>BETTER LEARNING COMM ACADEMY</td>\n",
              "      <td>2015</td>\n",
              "      <td>NaN</td>\n",
              "      <td>194.0</td>\n",
              "      <td>0.101311</td>\n",
              "      <td>0.720358</td>\n",
              "      <td>0.178331</td>\n",
              "      <td>156.3472</td>\n",
              "      <td>1766496.74</td>\n",
              "      <td>1.956530e+06</td>\n",
              "      <td>11298.55053</td>\n",
              "      <td>NaN</td>\n",
              "      <td>NaN</td>\n",
              "      <td>NaN</td>\n",
              "      <td>NaN</td>\n",
              "    </tr>\n",
              "    <tr>\n",
              "      <th>2781</th>\n",
              "      <td>115923</td>\n",
              "      <td>EAGLE COLLEGE PREP ENDEAVOR</td>\n",
              "      <td>2015</td>\n",
              "      <td>NaN</td>\n",
              "      <td>206.0</td>\n",
              "      <td>0.203371</td>\n",
              "      <td>0.594179</td>\n",
              "      <td>0.202450</td>\n",
              "      <td>179.3879</td>\n",
              "      <td>2272233.33</td>\n",
              "      <td>2.500731e+06</td>\n",
              "      <td>12666.59195</td>\n",
              "      <td>NaN</td>\n",
              "      <td>NaN</td>\n",
              "      <td>NaN</td>\n",
              "      <td>NaN</td>\n",
              "    </tr>\n",
              "    <tr>\n",
              "      <th>2782</th>\n",
              "      <td>115924</td>\n",
              "      <td>LAFAYETTE PREPARATORY ACADEMY</td>\n",
              "      <td>2015</td>\n",
              "      <td>NaN</td>\n",
              "      <td>110.0</td>\n",
              "      <td>0.114363</td>\n",
              "      <td>0.670828</td>\n",
              "      <td>0.214809</td>\n",
              "      <td>110.1098</td>\n",
              "      <td>1246657.07</td>\n",
              "      <td>1.373587e+06</td>\n",
              "      <td>11321.94473</td>\n",
              "      <td>NaN</td>\n",
              "      <td>NaN</td>\n",
              "      <td>NaN</td>\n",
              "      <td>NaN</td>\n",
              "    </tr>\n",
              "  </tbody>\n",
              "</table>\n",
              "<p>2783 rows × 16 columns</p>\n",
              "</div>"
            ],
            "text/plain": [
              "     COUNTY DISTRICT CODE  ... ASSESSED VALUATION\n",
              "0                 001-090  ...         16662758.0\n",
              "1                 001-091  ...        236932486.0\n",
              "2                 001-092  ...         15147176.0\n",
              "3                 002-089  ...         24045086.0\n",
              "4                 002-090  ...         25869781.0\n",
              "...                   ...  ...                ...\n",
              "2778               115920  ...                NaN\n",
              "2779               115921  ...                NaN\n",
              "2780               115922  ...                NaN\n",
              "2781               115923  ...                NaN\n",
              "2782               115924  ...                NaN\n",
              "\n",
              "[2783 rows x 16 columns]"
            ]
          },
          "metadata": {
            "tags": []
          },
          "execution_count": 23
        }
      ]
    },
    {
      "cell_type": "code",
      "metadata": {
        "id": "zo2nz74TJ2KG",
        "outputId": "d154f2c8-b5d4-4516-bc39-ec8b23f6c3c6",
        "colab": {
          "base_uri": "https://localhost:8080/",
          "height": 408
        }
      },
      "source": [
        "Finance_df.info()"
      ],
      "execution_count": 24,
      "outputs": [
        {
          "output_type": "stream",
          "text": [
            "<class 'pandas.core.frame.DataFrame'>\n",
            "RangeIndex: 2783 entries, 0 to 2782\n",
            "Data columns (total 16 columns):\n",
            " #   Column                              Non-Null Count  Dtype  \n",
            "---  ------                              --------------  -----  \n",
            " 0   COUNTY DISTRICT CODE                2783 non-null   object \n",
            " 1   DISTRICT NAME                       2783 non-null   object \n",
            " 2   YEAR                                2783 non-null   int64  \n",
            " 3   PK ENROLLMENT                       2743 non-null   float64\n",
            " 4   ENROLLMENT                          2782 non-null   float64\n",
            " 5   PERCENT LOCAL                       2783 non-null   float64\n",
            " 6   PERCENT STATE                       2783 non-null   float64\n",
            " 7   PERCENT FEDERAL                     2781 non-null   float64\n",
            " 8   AVERAGE DAILY ATTENDANCE            2780 non-null   float64\n",
            " 9   TOTAL EXPENDITURE                   2780 non-null   float64\n",
            " 10  TAX RATE CEILING OPERATING FUNDS    2746 non-null   float64\n",
            " 11  ADJUSTED TAX RATE INCIDENTAL        2627 non-null   float64\n",
            " 12  ADJUSTED TAX RATE TEACHERS          2591 non-null   float64\n",
            " 13  ADJUSTED TAX RATE DEBT SERVICE      2591 non-null   float64\n",
            " 14  ADJUSTED TAX RATE CAPITAL PROJECTS  2591 non-null   float64\n",
            " 15  ASSESSED VALUATION                  2591 non-null   float64\n",
            "dtypes: float64(13), int64(1), object(2)\n",
            "memory usage: 348.0+ KB\n"
          ],
          "name": "stdout"
        }
      ]
    },
    {
      "cell_type": "markdown",
      "metadata": {
        "id": "pDwMayG0IvyF"
      },
      "source": [
        "Dataset has 2782 inputs over five years of missouri k-12 finance data by district. There are 16 features. The output I want to study is the \"total expenditure\" which is a float data type. The only object types are the district code and district name. Also the year is an int and not a float which I might have to be careful with."
      ]
    },
    {
      "cell_type": "code",
      "metadata": {
        "id": "BWamTZQnJ-f9",
        "outputId": "eed006c0-1307-4548-f50f-f19a60333b75",
        "colab": {
          "base_uri": "https://localhost:8080/",
          "height": 290
        }
      },
      "source": [
        "import matplotlib.pyplot as plt\n",
        "plt.scatter(Finance_df[\"ENROLLMENT\"],Finance_df[\"TOTAL EXPENDITURE\"])\n",
        "plt.xlabel(\"Enrollment\")\n",
        "plt.ylabel(\"Total Expenditure\")\n",
        "plt.show()"
      ],
      "execution_count": 26,
      "outputs": [
        {
          "output_type": "display_data",
          "data": {
            "image/png": "[encoded data removed]",
            "text/plain": [
              "<Figure size 432x288 with 1 Axes>"
            ]
          },
          "metadata": {
            "tags": [],
            "needs_background": "light"
          }
        }
      ]
    },
    {
      "cell_type": "code",
      "metadata": {
        "id": "eNMeroynSDdN",
        "outputId": "f9956df0-1106-4586-f83a-066104004cea",
        "colab": {
          "base_uri": "https://localhost:8080/",
          "height": 290
        }
      },
      "source": [
        "plt.scatter(Finance_df[\"PK ENROLLMENT\"],Finance_df[\"TOTAL EXPENDITURE\"])\n",
        "plt.xlabel(\"PK Enrollment\")\n",
        "plt.ylabel(\"Total Expenditure\")\n",
        "plt.show()"
      ],
      "execution_count": 30,
      "outputs": [
        {
          "output_type": "display_data",
          "data": {
            "image/png": "[encoded data removed]",
            "text/plain": [
              "<Figure size 432x288 with 1 Axes>"
            ]
          },
          "metadata": {
            "tags": [],
            "needs_background": "light"
          }
        }
      ]
    },
    {
      "cell_type": "code",
      "metadata": {
        "id": "ULjYis6_SL69",
        "outputId": "d40aae9d-d8ca-4e98-8531-91f1c720b432",
        "colab": {
          "base_uri": "https://localhost:8080/",
          "height": 290
        }
      },
      "source": [
        "plt.scatter(Finance_df[\"ASSESSED VALUATION\"],Finance_df[\"TOTAL EXPENDITURE\"])\n",
        "plt.xlabel(\"Assessed Valuation\")\n",
        "plt.ylabel(\"Total Expenditure\")\n",
        "plt.show()"
      ],
      "execution_count": 33,
      "outputs": [
        {
          "output_type": "display_data",
          "data": {
            "image/png": "[encoded data removed]",
            "text/plain": [
              "<Figure size 432x288 with 1 Axes>"
            ]
          },
          "metadata": {
            "tags": [],
            "needs_background": "light"
          }
        }
      ]
    },
    {
      "cell_type": "code",
      "metadata": {
        "id": "LuArD_S6Pv0y",
        "outputId": "fe5140b7-4303-4bcf-d780-037083180a37",
        "colab": {
          "base_uri": "https://localhost:8080/",
          "height": 385
        }
      },
      "source": [
        "Finance_df.describe()"
      ],
      "execution_count": 27,
      "outputs": [
        {
          "output_type": "execute_result",
          "data": {
            "text/html": [
              "<div>\n",
              "<style scoped>\n",
              "    .dataframe tbody tr th:only-of-type {\n",
              "        vertical-align: middle;\n",
              "    }\n",
              "\n",
              "    .dataframe tbody tr th {\n",
              "        vertical-align: top;\n",
              "    }\n",
              "\n",
              "    .dataframe thead th {\n",
              "        text-align: right;\n",
              "    }\n",
              "</style>\n",
              "<table border=\"1\" class=\"dataframe\">\n",
              "  <thead>\n",
              "    <tr style=\"text-align: right;\">\n",
              "      <th></th>\n",
              "      <th>YEAR</th>\n",
              "      <th>PK ENROLLMENT</th>\n",
              "      <th>ENROLLMENT</th>\n",
              "      <th>PERCENT LOCAL</th>\n",
              "      <th>PERCENT STATE</th>\n",
              "      <th>PERCENT FEDERAL</th>\n",
              "      <th>AVERAGE DAILY ATTENDANCE</th>\n",
              "      <th>TOTAL EXPENDITURE</th>\n",
              "      <th>TAX RATE CEILING OPERATING FUNDS</th>\n",
              "      <th>ADJUSTED TAX RATE INCIDENTAL</th>\n",
              "      <th>ADJUSTED TAX RATE TEACHERS</th>\n",
              "      <th>ADJUSTED TAX RATE DEBT SERVICE</th>\n",
              "      <th>ADJUSTED TAX RATE CAPITAL PROJECTS</th>\n",
              "      <th>ASSESSED VALUATION</th>\n",
              "    </tr>\n",
              "  </thead>\n",
              "  <tbody>\n",
              "    <tr>\n",
              "      <th>count</th>\n",
              "      <td>2783.000000</td>\n",
              "      <td>2743.000000</td>\n",
              "      <td>2782.000000</td>\n",
              "      <td>2783.000000</td>\n",
              "      <td>2783.000000</td>\n",
              "      <td>2781.000000</td>\n",
              "      <td>2.780000e+03</td>\n",
              "      <td>2.780000e+03</td>\n",
              "      <td>2.746000e+03</td>\n",
              "      <td>2627.000000</td>\n",
              "      <td>2591.000000</td>\n",
              "      <td>2591.000000</td>\n",
              "      <td>2591.000000</td>\n",
              "      <td>2.591000e+03</td>\n",
              "    </tr>\n",
              "    <tr>\n",
              "      <th>mean</th>\n",
              "      <td>2016.997844</td>\n",
              "      <td>656.689101</td>\n",
              "      <td>951.487835</td>\n",
              "      <td>0.454216</td>\n",
              "      <td>0.300465</td>\n",
              "      <td>901.132997</td>\n",
              "      <td>9.589729e+06</td>\n",
              "      <td>1.099147e+07</td>\n",
              "      <td>2.207577e+07</td>\n",
              "      <td>2218.966804</td>\n",
              "      <td>2.757950</td>\n",
              "      <td>0.206691</td>\n",
              "      <td>0.392413</td>\n",
              "      <td>3.939701e+07</td>\n",
              "    </tr>\n",
              "    <tr>\n",
              "      <th>std</th>\n",
              "      <td>1.413449</td>\n",
              "      <td>2131.895090</td>\n",
              "      <td>2585.230805</td>\n",
              "      <td>0.144433</td>\n",
              "      <td>0.193439</td>\n",
              "      <td>16184.146340</td>\n",
              "      <td>1.739502e+08</td>\n",
              "      <td>3.381507e+07</td>\n",
              "      <td>2.379661e+08</td>\n",
              "      <td>5486.914216</td>\n",
              "      <td>1.518266</td>\n",
              "      <td>0.510191</td>\n",
              "      <td>0.426327</td>\n",
              "      <td>2.396730e+08</td>\n",
              "    </tr>\n",
              "    <tr>\n",
              "      <th>min</th>\n",
              "      <td>2015.000000</td>\n",
              "      <td>0.000000</td>\n",
              "      <td>0.063737</td>\n",
              "      <td>0.020565</td>\n",
              "      <td>0.007451</td>\n",
              "      <td>0.007047</td>\n",
              "      <td>2.611100e+01</td>\n",
              "      <td>7.087840e+03</td>\n",
              "      <td>1.198000e+00</td>\n",
              "      <td>0.482300</td>\n",
              "      <td>0.000000</td>\n",
              "      <td>-0.216184</td>\n",
              "      <td>0.000000</td>\n",
              "      <td>-1.168396e-01</td>\n",
              "    </tr>\n",
              "    <tr>\n",
              "      <th>25%</th>\n",
              "      <td>2016.000000</td>\n",
              "      <td>4.465850</td>\n",
              "      <td>0.480332</td>\n",
              "      <td>0.377408</td>\n",
              "      <td>0.106585</td>\n",
              "      <td>0.088989</td>\n",
              "      <td>3.954452e+02</td>\n",
              "      <td>1.027535e+04</td>\n",
              "      <td>1.443160e+06</td>\n",
              "      <td>3.198100</td>\n",
              "      <td>2.442500</td>\n",
              "      <td>0.000000</td>\n",
              "      <td>0.000000</td>\n",
              "      <td>0.000000e+00</td>\n",
              "    </tr>\n",
              "    <tr>\n",
              "      <th>50%</th>\n",
              "      <td>2017.000000</td>\n",
              "      <td>53.000000</td>\n",
              "      <td>164.500000</td>\n",
              "      <td>0.455423</td>\n",
              "      <td>0.331269</td>\n",
              "      <td>0.135525</td>\n",
              "      <td>2.109044e+03</td>\n",
              "      <td>2.061351e+06</td>\n",
              "      <td>4.678522e+06</td>\n",
              "      <td>3.738900</td>\n",
              "      <td>3.137900</td>\n",
              "      <td>0.000000</td>\n",
              "      <td>0.270000</td>\n",
              "      <td>0.000000e+00</td>\n",
              "    </tr>\n",
              "    <tr>\n",
              "      <th>75%</th>\n",
              "      <td>2018.000000</td>\n",
              "      <td>388.000000</td>\n",
              "      <td>693.750000</td>\n",
              "      <td>0.521998</td>\n",
              "      <td>0.466393</td>\n",
              "      <td>342.689500</td>\n",
              "      <td>3.353745e+06</td>\n",
              "      <td>6.840708e+06</td>\n",
              "      <td>1.214530e+07</td>\n",
              "      <td>5.118800</td>\n",
              "      <td>3.713750</td>\n",
              "      <td>0.000000</td>\n",
              "      <td>0.748900</td>\n",
              "      <td>4.163500e-01</td>\n",
              "    </tr>\n",
              "    <tr>\n",
              "      <th>max</th>\n",
              "      <td>2019.000000</td>\n",
              "      <td>24955.000000</td>\n",
              "      <td>25055.000000</td>\n",
              "      <td>0.967059</td>\n",
              "      <td>0.848553</td>\n",
              "      <td>847306.294900</td>\n",
              "      <td>9.086555e+09</td>\n",
              "      <td>4.372999e+08</td>\n",
              "      <td>1.226389e+10</td>\n",
              "      <td>175366.823500</td>\n",
              "      <td>6.576900</td>\n",
              "      <td>3.249900</td>\n",
              "      <td>1.855100</td>\n",
              "      <td>4.684978e+09</td>\n",
              "    </tr>\n",
              "  </tbody>\n",
              "</table>\n",
              "</div>"
            ],
            "text/plain": [
              "              YEAR  ...  ASSESSED VALUATION\n",
              "count  2783.000000  ...        2.591000e+03\n",
              "mean   2016.997844  ...        3.939701e+07\n",
              "std       1.413449  ...        2.396730e+08\n",
              "min    2015.000000  ...       -1.168396e-01\n",
              "25%    2016.000000  ...        0.000000e+00\n",
              "50%    2017.000000  ...        0.000000e+00\n",
              "75%    2018.000000  ...        4.163500e-01\n",
              "max    2019.000000  ...        4.684978e+09\n",
              "\n",
              "[8 rows x 14 columns]"
            ]
          },
          "metadata": {
            "tags": []
          },
          "execution_count": 27
        }
      ]
    },
    {
      "cell_type": "code",
      "metadata": {
        "id": "NuqO3AwZQi62",
        "outputId": "a1511b36-6590-436f-98e8-3307345ae591",
        "colab": {
          "base_uri": "https://localhost:8080/",
          "height": 258
        }
      },
      "source": [
        "Finance_df.value_counts()"
      ],
      "execution_count": 28,
      "outputs": [
        {
          "output_type": "execute_result",
          "data": {
            "text/plain": [
              "COUNTY DISTRICT CODE  DISTRICT NAME       YEAR  PK ENROLLMENT  ENROLLMENT    PERCENT LOCAL  PERCENT STATE  PERCENT FEDERAL  AVERAGE DAILY ATTENDANCE  TOTAL EXPENDITURE  TAX RATE CEILING OPERATING FUNDS  ADJUSTED TAX RATE INCIDENTAL  ADJUSTED TAX RATE TEACHERS  ADJUSTED TAX RATE DEBT SERVICE  ADJUSTED TAX RATE CAPITAL PROJECTS  ASSESSED VALUATION\n",
              "115-115               ST. LOUIS CITY      2019  2070.0000      19778.000000  0.751535       0.111030       0.137435         1.905447e+04              3.805514e+08       4.516000e+00                      4.51600                       0.0000                      0.6211                          0.0000                              4.201815e+09          1\n",
              "64075                 HANNIBAL 60         2017  3499.0000      0.471383      0.435908       0.092709       3269.617600      2.833480e+07              8.666090e+03       4.542788e+07                      3.08670                       3.0867                      0.0000                          0.8500                              0.000000e+00          1\n",
              "61158                 MACON CO. R-IV      2016  104.0000       0.469209      0.448683       0.082107       96.538100        1.397467e+06              1.447581e+04       1.638758e+06                      4.46980                       4.4698                      0.0000                          0.0000                              0.000000e+00          1\n",
              "                                          2015  4.8500         106.000000    0.479490       0.443578       0.076932         9.486490e+01              1.411659e+06       1.761360e+06                      14880.72944                   4.5000                      0.0000                          0.0000                              0.000000e+00          1\n",
              "61157                 CALLAO C-8          2017  71.0000        0.430064      0.430244       0.139692       90.771100        9.280196e+05              1.022373e+04       9.767161e+05                      4.72040                       4.2002                      0.0000                          0.0000                              0.000000e+00          1\n",
              "                                                                                                                                                                                                                                                                                                                                                              ..\n",
              "019-151               MIDWAY R-I          2018  0.0000         429.000000    0.579376       0.351760       0.068863         4.044165e+02              5.082934e+06       5.829579e+06                      5.23460                       5.2346                      0.0000                          0.6700                              0.000000e+00          1\n",
              "019-150               DREXEL R-IV         2019  10.0000        302.000000    0.443181       0.480885       0.075933         2.751823e+02              5.710800e+06       4.312900e+00                      4.31290                       0.0000                      0.9672                          0.0000                              2.053100e+07          1\n",
              "                                          2018  30.0000        312.000000    0.441607       0.500273       0.058120         2.945464e+02              3.269423e+06       3.898246e+06                      4.22630                       4.2263                      0.0000                          0.9672                              0.000000e+00          1\n",
              "019-149               HARRISONVILLE R-IX  2019  133.0000       2375.000000   0.549912       0.386885       0.063204         2.191055e+03              2.964577e+07       4.043500e+00                      4.04350                       0.0000                      1.0337                          0.0000                              2.112796e+08          1\n",
              "1090                  ADAIR CO. R-I       2015  3.7181         258.000000    0.388955       0.509926       0.101118         2.531928e+02              2.419087e+06       2.936751e+06                      9554.32694                    3.7181                      0.0000                          0.5830                              0.000000e+00          1\n",
              "Length: 2587, dtype: int64"
            ]
          },
          "metadata": {
            "tags": []
          },
          "execution_count": 28
        }
      ]
    },
    {
      "cell_type": "markdown",
      "metadata": {
        "id": "iwNXPGWpQf3r"
      },
      "source": [
        "The data that I am using comes from dese.mo.gov and I have combined the data from 2015-2019 into one dataset. Something of note is that some of the years do not have certain columns. There is quite a few districts with missing values for PK Enrollment since not all districts provide PK education and for some years it is not recorded. Also the same thing applies to Assessed Valuation. So I am going to have to filter out the rows that do not have values for these columns if I am going to use them in the analysis Another thing is that the districts and district codes only have five values each so it may not be useful to use that towards fitting the data but maybe for filtering. Another thing to be mindful of is that the total expenditure values are very large compared to any of the other values so it would be useful to scale the values when fitting the data. "
      ]
    }
  ]
}