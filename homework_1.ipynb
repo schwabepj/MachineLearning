{
  "nbformat": 4,
  "nbformat_minor": 0,
  "metadata": {
    "colab": {
      "name": "homework_1.ipynb",
      "provenance": []
    },
    "kernelspec": {
      "name": "python3",
      "display_name": "Python 3"
    }
  },
  "cells": [
    {
      "cell_type": "code",
      "metadata": {
        "id": "0_6yqXdoJGSO",
        "colab_type": "code",
        "colab": {
          "base_uri": "https://localhost:8080/",
          "height": 102
        },
        "outputId": "a75ba138-0138-4116-b6c1-c6a8c68f7422"
      },
      "source": [
        "a = 4\n",
        "print(\"Type of a: \", type(a)) \n",
        "  \n",
        "b = 10.0\n",
        "print(\"\\nType of b: \", type(b)) \n",
        "  \n",
        "c = 2 + 4j\n",
        "print(\"\\nType of c: \", type(c)) \n"
      ],
      "execution_count": 6,
      "outputs": [
        {
          "output_type": "stream",
          "text": [
            "Type of a:  <class 'int'>\n",
            "\n",
            "Type of b:  <class 'float'>\n",
            "\n",
            "Type of c:  <class 'complex'>\n"
          ],
          "name": "stdout"
        }
      ]
    },
    {
      "cell_type": "markdown",
      "metadata": {
        "id": "TYeX5xMCKa0j",
        "colab_type": "text"
      },
      "source": [
        "imaginary part is j not i"
      ]
    },
    {
      "cell_type": "code",
      "metadata": {
        "id": "gxpnOx3LKiCf",
        "colab_type": "code",
        "colab": {
          "base_uri": "https://localhost:8080/",
          "height": 102
        },
        "outputId": "f570c76c-6439-41bd-c321-d149c13690d6"
      },
      "source": [
        "String1 = 'hello world'\n",
        "print(String1)  \n",
        "\n",
        "String2 = \"Python is fun\" \n",
        "print(String2)  \n",
        "print(type(String2)) \n",
        "\n",
        "print(\"first letter of String1:\", String1[0])\n",
        "print(\"last letter of String1:\", String1[-1])"
      ],
      "execution_count": 13,
      "outputs": [
        {
          "output_type": "stream",
          "text": [
            "hello world\n",
            "Python is fun\n",
            "<class 'str'>\n",
            "first letter of String1: h\n",
            "last letter of String1: d\n"
          ],
          "name": "stdout"
        }
      ]
    },
    {
      "cell_type": "code",
      "metadata": {
        "id": "iLM5_p2HLomG",
        "colab_type": "code",
        "colab": {
          "base_uri": "https://localhost:8080/",
          "height": 85
        },
        "outputId": "4285d77d-7f3b-4232-f1e0-f58999a31f36"
      },
      "source": [
        "List = [\"apple\", \"pineapple\", \"banana\"]  \n",
        "print(\"List: \")  \n",
        "print(List) \n",
        "\n",
        "List = [[\"apple\", \"pineapple\"], \"banana\"]  \n",
        "print(\"List: \")  \n",
        "print(List) "
      ],
      "execution_count": 16,
      "outputs": [
        {
          "output_type": "stream",
          "text": [
            "List: \n",
            "['apple', 'pineapple', 'banana']\n",
            "List: \n",
            "[['apple', 'pineapple'], 'banana']\n"
          ],
          "name": "stdout"
        }
      ]
    },
    {
      "cell_type": "code",
      "metadata": {
        "id": "6E9roRLAMVqC",
        "colab_type": "code",
        "colab": {
          "base_uri": "https://localhost:8080/",
          "height": 51
        },
        "outputId": "3431e46c-39c3-4e28-cca3-537ba44e29bf"
      },
      "source": [
        "flag = True\n",
        "if flag == True:\n",
        "  print('hello world')\n",
        "  flag = False \n",
        "else: \n",
        "  print ('bye world')\n",
        "\n",
        "if flag == False: \n",
        "    print ('false')"
      ],
      "execution_count": 23,
      "outputs": [
        {
          "output_type": "stream",
          "text": [
            "hello world\n",
            "false\n"
          ],
          "name": "stdout"
        }
      ]
    },
    {
      "cell_type": "code",
      "metadata": {
        "id": "ume3Z0tdONKd",
        "colab_type": "code",
        "colab": {
          "base_uri": "https://localhost:8080/",
          "height": 34
        },
        "outputId": "9cdf1098-e82b-4f4c-fb13-4de2735921aa"
      },
      "source": [
        "set1 = set(\"Hello World\")\n",
        "print(set1)  "
      ],
      "execution_count": 24,
      "outputs": [
        {
          "output_type": "stream",
          "text": [
            "{'H', 'l', 'o', 'r', 'd', 'W', 'e', ' '}\n"
          ],
          "name": "stdout"
        }
      ]
    },
    {
      "cell_type": "code",
      "metadata": {
        "id": "I4lky7wDOdy1",
        "colab_type": "code",
        "colab": {
          "base_uri": "https://localhost:8080/",
          "height": 68
        },
        "outputId": "1e6c79e4-a046-4b1f-bfb3-cb79e2b2545f"
      },
      "source": [
        "Dict = {1: 'Hello', 'name': 'Peter', 3: 'World'} \n",
        "print(Dict)\n",
        "print(Dict['name'])\n",
        "print(Dict.get(1))"
      ],
      "execution_count": 27,
      "outputs": [
        {
          "output_type": "stream",
          "text": [
            "{1: 'Hello', 'name': 'Peter', 3: 'World'}\n",
            "Peter\n",
            "Hello\n"
          ],
          "name": "stdout"
        }
      ]
    }
  ]
}